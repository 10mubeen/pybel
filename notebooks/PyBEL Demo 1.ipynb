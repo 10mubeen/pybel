{
 "cells": [
  {
   "cell_type": "code",
   "execution_count": 1,
   "metadata": {
    "collapsed": false
   },
   "outputs": [],
   "source": [
    "from pybel.parsers.bel_parser import Parser\n",
    "import logging\n",
    "import os\n",
    "import networkx as nx\n",
    "import nx2d3\n",
    "#log = logging.getLogger(__name__)"
   ]
  },
  {
   "cell_type": "code",
   "execution_count": 2,
   "metadata": {
    "collapsed": false
   },
   "outputs": [],
   "source": [
    "parser = Parser()"
   ]
  },
  {
   "cell_type": "code",
   "execution_count": 3,
   "metadata": {
    "collapsed": false
   },
   "outputs": [
    {
     "name": "stderr",
     "output_type": "stream",
     "text": [
      "PyBEL001 legacy activity statement. Use activity() instead. p(HGNC:PIN1) -| kin(p(HGNC:GSK3B))\n",
      "PyBEL001 legacy activity statement. Use activity() instead. tport(complex(p(HGNC:APBB1), p(HGNC:KLC1))) -> tloc(p(HGNC:APP))\n",
      "PyBEL008 legacy translocation + missing arguments: tport(complex(p(HGNC:APBB1), p(HGNC:KLC1))) -> tloc(p(HGNC:APP))\n"
     ]
    },
    {
     "name": "stdout",
     "output_type": "stream",
     "text": [
      "1. ['Abundance', ['HGNC', 'e']]\n",
      "2. ['miRNA', ['HGNC', 'b']]\n",
      "3. [['Protein', ['HGNC', 'c']], 'increases', ['Protein', ['HGNC', 'c']]]\n",
      "4. [['Protein', ['HGNC', 'n']], 'increases', ['Protein', ['HGNC', 'c']], 'increases', ['Protein', ['HGNC', 'c']]]\n",
      "5. ['Abundance', ['ADO', 'Abeta_42']]\n",
      "6. ['Complex', ['GO', 'sweet']]\n",
      "7. [['ComplexList', ['Protein', ['HGNC', 'b']], ['Protein', ['HGNC', 'c']]], 'increases', ['Protein', ['HGNC', 'd']]]\n",
      "8. ['Composite', ['Protein', ['a', 'c']], ['Protein', ['a', 'd']]]\n",
      "9. [['Composite', ['Protein', ['HGNC', 'CASP8']], ['Protein', ['HGNC', 'FADD']], ['Abundance', ['ADO', 'Abeta_42']]], 'increases', ['BiologicalProcess', ['GOBP', 'neuron apoptotic process']]]\n",
      "10. [['Translocation', ['Abundance', ['CHEBI', 'cholesterol']], ['MESHCS', 'Cell Membrane'], ['MESHCS', 'Extracellular Space']], 'association', ['Abundance', ['A', 'b']]]\n",
      "11. [['Protein', ['HGNC', 'PIN1']], 'decreases', ['Activity', ['Protein', ['HGNC', 'GSK3B']], ['MolecularActivity', 'KinaseActivity']]]\n",
      "12. [['Activity', ['ComplexList', ['Protein', ['HGNC', 'APBB1']], ['Protein', ['HGNC', 'KLC1']]], ['MolecularActivity', 'TransportActivity']], 'increases', ['Translocation', ['Protein', ['HGNC', 'APP']]]]\n",
      "13. [['Protein', ['PKC', 'a']], 'hasMembers', [['Protein', ['HGNC', 'PRKCA']], ['Protein', ['HGNC', 'PRKCB']], ['Protein', ['HGNC', 'PRKCD']], ['Protein', ['HGNC', 'PRKCE']]]]\n",
      "14. [['BiologicalProcess', ['GO', 'cytokine production involved in inflammatory response']], 'association', ['Pathology', ['MESHD', 'Alzheimer Disease']]]\n",
      "15. [['Abundance', ['CHEBI', 'rutin']], 'decreases', ['Abundance', ['CHEBI', 'malonaldehyde']]]\n",
      "16. ['Translocation', ['Abundance', ['CHEBI', 'T-Lymphocytes']], ['a', 'b'], ['c', 'd']]\n",
      "17. [['Abundance', ['CHEBI', 'rutin']], 'increases', ['Protein', ['MGI', 'Gss']]]\n",
      "18. [['Protein', ['MGI', 'Ccl5']], 'association', ['ComplexList', ['Protein', ['MGI', 'Gfap']], ['Protein', ['MGI', 'Il12b']]]]\n"
     ]
    }
   ],
   "source": [
    "lines = [ \n",
    "    'a(HGNC:e)',\n",
    "    'm(HGNC:b)',\n",
    "    'p(HGNC:c) -> p(HGNC:c)',\n",
    "    'p(HGNC:n) -> (p(HGNC:c)->p(HGNC:c))',\n",
    "    'a(ADO:\"Abeta_42\")',\n",
    "    'complex(GO:\"sweet\")',\n",
    "    'complex(p(HGNC:b),p(HGNC:c)) -> p(HGNC:d)',\n",
    "    'composite(p(a:c),p(a:d))',\n",
    "    'composite(p(HGNC:CASP8),p(HGNC:FADD),a(ADO:\"Abeta_42\")) -> bp(GOBP:\"neuron apoptotic process\")',\n",
    "    'tloc(a(CHEBI:cholesterol),fromLoc(MESHCS:\"Cell Membrane\"),toLoc(MESHCS:\"Extracellular Space\")) -- a(A:b)',\n",
    "    'p(HGNC:PIN1) -| kin(p(HGNC:GSK3B))',\n",
    "    'tport(complex(p(HGNC:APBB1), p(HGNC:KLC1))) -> tloc(p(HGNC:APP))',\n",
    "    'p(PKC:a) hasMembers list(p(HGNC:PRKCA), p(HGNC:PRKCB), p(HGNC:PRKCD), p(HGNC:PRKCE))',\n",
    "    'bp(GO:\"cytokine production involved in inflammatory response\") -- path(MESHD:\"Alzheimer Disease\")',\n",
    "    'a(CHEBI:rutin) -| a(CHEBI:malonaldehyde)',\n",
    "    'tloc(a(CHEBI:\"T-Lymphocytes\"),fromLoc(a:b),toLoc(c:d))',\n",
    "    'a(CHEBI:rutin) -> p(MGI:Gss)',\n",
    "    'p(MGI:Ccl5) -- complex(p(MGI:Gfap),p(MGI:Il12b))'\n",
    "]\n",
    "\n",
    "for i, line in enumerate(lines, start=1):\n",
    "    print(\"{}. {}\".format(i, parser.parse(line)))"
   ]
  },
  {
   "cell_type": "code",
   "execution_count": 4,
   "metadata": {
    "collapsed": false
   },
   "outputs": [
    {
     "data": {
      "application/javascript": [
       "var chart_idx='eqpsqkghjxbvdzfy', graphx={\"graph\": {}, \"nodes\": [{\"namespace\": \"PKC\", \"type\": \"Protein\", \"id\": [\"Protein\", \"PKC\", \"a\"], \"value\": \"a\"}, {\"namespace\": \"GO\", \"type\": \"BiologicalProcess\", \"id\": [\"BiologicalProcess\", \"GO\", \"cytokine production involved in inflammatory response\"], \"value\": \"cytokine production involved in inflammatory response\"}, {\"namespace\": \"HGNC\", \"type\": \"Protein\", \"id\": [\"Protein\", \"HGNC\", \"PRKCE\"], \"value\": \"PRKCE\"}, {\"namespace\": \"HGNC\", \"type\": \"Protein\", \"id\": [\"Protein\", \"HGNC\", \"PRKCB\"], \"value\": \"PRKCB\"}, {\"namespace\": \"HGNC\", \"type\": \"Protein\", \"id\": [\"Protein\", \"HGNC\", \"b\"], \"value\": \"b\"}, {\"type\": \"Composite\", \"id\": [\"Composite\", 3]}, {\"namespace\": \"HGNC\", \"type\": \"Protein\", \"id\": [\"Protein\", \"HGNC\", \"PRKCD\"], \"value\": \"PRKCD\"}, {\"namespace\": \"MGI\", \"type\": \"Protein\", \"id\": [\"Protein\", \"MGI\", \"Gfap\"], \"value\": \"Gfap\"}, {\"namespace\": \"HGNC\", \"type\": \"Abundance\", \"id\": [\"Abundance\", \"HGNC\", \"e\"], \"value\": \"e\"}, {\"namespace\": \"HGNC\", \"type\": \"Protein\", \"id\": [\"Protein\", \"HGNC\", \"c\"], \"value\": \"c\"}, {\"namespace\": \"A\", \"type\": \"Abundance\", \"id\": [\"Abundance\", \"A\", \"b\"], \"value\": \"b\"}, {\"namespace\": \"MGI\", \"type\": \"Protein\", \"id\": [\"Protein\", \"MGI\", \"Gss\"], \"value\": \"Gss\"}, {\"namespace\": \"MGI\", \"type\": \"Protein\", \"id\": [\"Protein\", \"MGI\", \"Ccl5\"], \"value\": \"Ccl5\"}, {\"namespace\": \"HGNC\", \"type\": \"Protein\", \"id\": [\"Protein\", \"HGNC\", \"CASP8\"], \"value\": \"CASP8\"}, {\"namespace\": \"ADO\", \"type\": \"Abundance\", \"id\": [\"Abundance\", \"ADO\", \"Abeta_42\"], \"value\": \"Abeta_42\"}, {\"namespace\": \"HGNC\", \"type\": \"Protein\", \"id\": [\"Protein\", \"HGNC\", \"d\"], \"value\": \"d\"}, {\"namespace\": \"CHEBI\", \"type\": \"Abundance\", \"id\": [\"Abundance\", \"CHEBI\", \"T-Lymphocytes\"], \"value\": \"T-Lymphocytes\"}, {\"namespace\": \"MESHD\", \"type\": \"Pathology\", \"id\": [\"Pathology\", \"MESHD\", \"Alzheimer Disease\"], \"value\": \"Alzheimer Disease\"}, {\"namespace\": \"HGNC\", \"type\": \"Protein\", \"id\": [\"Protein\", \"HGNC\", \"APBB1\"], \"value\": \"APBB1\"}, {\"namespace\": \"GO\", \"type\": \"Complex\", \"id\": [\"Complex\", \"GO\", \"sweet\"], \"value\": \"sweet\"}, {\"namespace\": \"HGNC\", \"type\": \"Protein\", \"id\": [\"Protein\", \"HGNC\", \"PIN1\"], \"value\": \"PIN1\"}, {\"type\": \"Composite\", \"id\": [\"Composite\", 2]}, {\"namespace\": \"HGNC\", \"type\": \"Protein\", \"id\": [\"Protein\", \"HGNC\", \"KLC1\"], \"value\": \"KLC1\"}, {\"namespace\": \"CHEBI\", \"type\": \"Abundance\", \"id\": [\"Abundance\", \"CHEBI\", \"malonaldehyde\"], \"value\": \"malonaldehyde\"}, {\"namespace\": \"CHEBI\", \"type\": \"Abundance\", \"id\": [\"Abundance\", \"CHEBI\", \"rutin\"], \"value\": \"rutin\"}, {\"namespace\": \"HGNC\", \"type\": \"Protein\", \"id\": [\"Protein\", \"HGNC\", \"PRKCA\"], \"value\": \"PRKCA\"}, {\"type\": \"ComplexList\", \"id\": [\"ComplexList\", 1]}, {\"namespace\": \"a\", \"type\": \"Protein\", \"id\": [\"Protein\", \"a\", \"d\"], \"value\": \"d\"}, {\"namespace\": \"HGNC\", \"type\": \"Protein\", \"id\": [\"Protein\", \"HGNC\", \"n\"], \"value\": \"n\"}, {\"namespace\": \"CHEBI\", \"type\": \"Abundance\", \"id\": [\"Abundance\", \"CHEBI\", \"cholesterol\"], \"value\": \"cholesterol\"}, {\"namespace\": \"HGNC\", \"type\": \"Protein\", \"id\": [\"Protein\", \"HGNC\", \"FADD\"], \"value\": \"FADD\"}, {\"namespace\": \"HGNC\", \"type\": \"Protein\", \"id\": [\"Protein\", \"HGNC\", \"APP\"], \"value\": \"APP\"}, {\"type\": \"ComplexList\", \"id\": [\"ComplexList\", 5]}, {\"namespace\": \"GOBP\", \"type\": \"BiologicalProcess\", \"id\": [\"BiologicalProcess\", \"GOBP\", \"neuron apoptotic process\"], \"value\": \"neuron apoptotic process\"}, {\"id\": null}, {\"namespace\": \"HGNC\", \"type\": \"miRNA\", \"id\": [\"miRNA\", \"HGNC\", \"b\"], \"value\": \"b\"}, {\"namespace\": \"a\", \"type\": \"Protein\", \"id\": [\"Protein\", \"a\", \"c\"], \"value\": \"c\"}, {\"namespace\": \"MGI\", \"type\": \"Protein\", \"id\": [\"Protein\", \"MGI\", \"Il12b\"], \"value\": \"Il12b\"}, {\"namespace\": \"HGNC\", \"type\": \"Protein\", \"id\": [\"Protein\", \"HGNC\", \"GSK3B\"], \"value\": \"GSK3B\"}, {\"type\": \"ComplexList\", \"id\": [\"ComplexList\", 4]}], \"links\": [{\"type\": \"hasComponent\", \"source\": 5, \"key\": 0, \"target\": 13}, {\"type\": \"hasComponent\", \"source\": 5, \"key\": 0, \"target\": 30}, {\"type\": \"hasComponent\", \"source\": 5, \"key\": 0, \"target\": 14}, {\"type\": \"hasComponent\", \"source\": 21, \"key\": 0, \"target\": 36}, {\"type\": \"hasComponent\", \"source\": 21, \"key\": 0, \"target\": 27}, {\"type\": \"hasComponent\", \"source\": 26, \"key\": 0, \"target\": 4}, {\"type\": \"hasComponent\", \"source\": 26, \"key\": 0, \"target\": 9}, {\"type\": \"hasComponent\", \"source\": 32, \"key\": 0, \"target\": 7}, {\"type\": \"hasComponent\", \"source\": 32, \"key\": 0, \"target\": 37}, {\"target\": 34, \"source\": 34, \"key\": 0}, {\"target\": 34, \"source\": 34, \"key\": 1}, {\"target\": 34, \"source\": 34, \"key\": 2}, {\"target\": 34, \"source\": 34, \"key\": 3}, {\"target\": 34, \"source\": 34, \"key\": 4}, {\"target\": 34, \"source\": 34, \"key\": 5}, {\"target\": 34, \"source\": 34, \"key\": 6}, {\"type\": \"hasComponent\", \"source\": 39, \"key\": 0, \"target\": 18}, {\"type\": \"hasComponent\", \"source\": 39, \"key\": 0, \"target\": 22}], \"multigraph\": true, \"directed\": true}, widthx=960, heightx=600;\n",
       "var process_nx = function(d3, chart_id, graph, width, height) {\n",
       "    var color = d3.scale.category20();\n",
       "\n",
       "    var force = d3.layout.force()\n",
       "        .charge(-200)\n",
       "        .linkDistance(40)\n",
       "        .size([width, height]);\n",
       "\n",
       "    var svg = d3.select('#' + chart_id).append(\"svg\")\n",
       "        .attr(\"width\", width)\n",
       "        .attr(\"height\", height);\n",
       "\n",
       "    force\n",
       "      .nodes(graph.nodes)\n",
       "      .links(graph.links)\n",
       "      .start();\n",
       "\n",
       "    var link = svg.selectAll(\".link\")\n",
       "        .data(graph.links)\n",
       "        .enter().append(\"line\")\n",
       "        .attr(\"class\", \"link\")\n",
       "        .attr(\"stroke\", \"#999\")\n",
       "        .attr(\"stroke-width\", 1.5);\n",
       "\n",
       "    var node = svg.selectAll(\".node\")\n",
       "        .data(graph.nodes)\n",
       "        .enter().append(\"g\")\n",
       "        .attr(\"class\", \"node\")\n",
       "        .call(force.drag);\n",
       "\n",
       "    node.append(\"circle\")\n",
       "        .attr(\"r\", 6)\n",
       "        .style(\"fill\", function(d) {\n",
       "            return color(d.color);\n",
       "        });\n",
       "\n",
       "    node.append(\"text\")\n",
       "        .attr(\"dx\", 12)\n",
       "        .attr(\"dy\", \".35em\")\n",
       "        .text(function(d) {\n",
       "            return d.id;\n",
       "        });\n",
       "\n",
       "    force.on(\"tick\", function() {\n",
       "        link.attr(\"x1\", function(d) { return d.source.x; })\n",
       "            .attr(\"y1\", function(d) { return d.source.y; })\n",
       "            .attr(\"x2\", function(d) { return d.target.x; })\n",
       "            .attr(\"y2\", function(d) { return d.target.y; });\n",
       "\n",
       "        node.attr(\"transform\", function(d) {\n",
       "            return \"translate(\" + d.x + \",\" + d.y + \")\";\n",
       "        });\n",
       "    });\n",
       "}\n",
       "\n",
       "        require.config({\n",
       "          paths: {\n",
       "              d3: '//cdnjs.cloudflare.com/ajax/libs/d3/3.4.8/d3.min'\n",
       "          }\n",
       "        });\n",
       "\n",
       "        element.append(\"<div id='\" + chart_idx + \"'></div>\");\n",
       "\n",
       "        require(['d3'], function(d3) {\n",
       "            return process_nx(d3, chart_idx, graphx, widthx, heightx)\n",
       "        })\n",
       "    "
      ],
      "text/plain": [
       "<IPython.core.display.Javascript object>"
      ]
     },
     "execution_count": 4,
     "metadata": {},
     "output_type": "execute_result"
    }
   ],
   "source": [
    "nx2d3.embed_networkx(parser.graph)"
   ]
  }
 ],
 "metadata": {
  "kernelspec": {
   "display_name": "Python 3",
   "language": "python",
   "name": "python3"
  },
  "language_info": {
   "codemirror_mode": {
    "name": "ipython",
    "version": 3
   },
   "file_extension": ".py",
   "mimetype": "text/x-python",
   "name": "python",
   "nbconvert_exporter": "python",
   "pygments_lexer": "ipython3",
   "version": "3.5.2"
  }
 },
 "nbformat": 4,
 "nbformat_minor": 1
}

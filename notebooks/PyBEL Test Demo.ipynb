{
 "cells": [
  {
   "cell_type": "code",
   "execution_count": 1,
   "metadata": {
    "collapsed": false
   },
   "outputs": [
    {
     "data": {
      "text/plain": [
       "'Mon Oct  3 21:59:09 2016'"
      ]
     },
     "execution_count": 1,
     "metadata": {},
     "output_type": "execute_result"
    }
   ],
   "source": [
    "import pybel\n",
    "import os\n",
    "import logging\n",
    "import nx2d3\n",
    "import py2neo\n",
    "import json\n",
    "import time\n",
    "\n",
    "time.asctime()"
   ]
  },
  {
   "cell_type": "code",
   "execution_count": 2,
   "metadata": {
    "collapsed": true
   },
   "outputs": [],
   "source": [
    "base = os.environ['PYBEL_BASE']\n",
    "path = os.path.join(base, 'tests', 'bel', 'test_bel_1.bel')"
   ]
  },
  {
   "cell_type": "code",
   "execution_count": 3,
   "metadata": {
    "collapsed": false
   },
   "outputs": [],
   "source": [
    "g = pybel.from_bel(path)"
   ]
  },
  {
   "cell_type": "code",
   "execution_count": 4,
   "metadata": {
    "collapsed": false
   },
   "outputs": [
    {
     "data": {
      "application/javascript": [
       "var chart_idx='jzckyeqhsrobpvft', graphx={\"nodes\": [{\"type\": \"RNA\", \"namespace\": \"ALPHABET\", \"id\": [\"RNA\", \"ALPHABET\", \"C\"], \"value\": \"C\"}, {\"type\": \"Protein\", \"namespace\": \"ALPHABET\", \"id\": [\"Protein\", \"ALPHABET\", \"E\"], \"value\": \"E\"}, {\"type\": \"Gene\", \"namespace\": \"ALPHABET\", \"id\": [\"Gene\", \"ALPHABET\", \"B\"], \"value\": \"B\"}, {\"type\": \"RNA\", \"namespace\": \"ALPHABET\", \"id\": [\"RNA\", \"ALPHABET\", \"D\"], \"value\": \"D\"}, {\"type\": \"Gene\", \"namespace\": \"ALPHABET\", \"id\": [\"Gene\", \"ALPHABET\", \"C\"], \"value\": \"C\"}, {\"type\": \"Gene\", \"namespace\": \"ALPHABET\", \"id\": [\"Gene\", \"ALPHABET\", \"A\"], \"value\": \"A\"}, {\"type\": \"RNA\", \"namespace\": \"ALPHABET\", \"id\": [\"RNA\", \"ALPHABET\", \"E\"], \"value\": \"E\"}, {\"type\": \"Gene\", \"namespace\": \"ALPHABET\", \"id\": [\"Gene\", \"ALPHABET\", \"D\"], \"value\": \"D\"}, {\"type\": \"RNA\", \"namespace\": \"ALPHABET\", \"id\": [\"RNA\", \"ALPHABET\", \"A\"], \"value\": \"A\"}, {\"type\": \"Protein\", \"namespace\": \"ALPHABET\", \"id\": [\"Protein\", \"ALPHABET\", \"C\"], \"value\": \"C\"}, {\"type\": \"Gene\", \"namespace\": \"ALPHABET\", \"id\": [\"Gene\", \"ALPHABET\", \"E\"], \"value\": \"E\"}, {\"type\": \"Protein\", \"namespace\": \"ALPHABET\", \"id\": [\"Protein\", \"ALPHABET\", \"B\"], \"value\": \"B\"}, {\"type\": \"Protein\", \"namespace\": \"ALPHABET\", \"id\": [\"Protein\", \"ALPHABET\", \"D\"], \"value\": \"D\"}, {\"type\": \"RNA\", \"namespace\": \"ALPHABET\", \"id\": [\"RNA\", \"ALPHABET\", \"B\"], \"value\": \"B\"}, {\"type\": \"Protein\", \"namespace\": \"ALPHABET\", \"id\": [\"Protein\", \"ALPHABET\", \"A\"], \"value\": \"A\"}], \"multigraph\": true, \"graph\": {}, \"links\": [{\"relation\": \"translatedTo\", \"key\": \"translatedTo\", \"source\": 0, \"target\": 9}, {\"relation\": \"transcribedTo\", \"key\": \"transcribedTo\", \"source\": 2, \"target\": 13}, {\"relation\": \"translatedTo\", \"key\": \"translatedTo\", \"source\": 3, \"target\": 12}, {\"relation\": \"transcribedTo\", \"key\": \"transcribedTo\", \"source\": 4, \"target\": 0}, {\"relation\": \"transcribedTo\", \"key\": \"transcribedTo\", \"source\": 5, \"target\": 8}, {\"relation\": \"translatedTo\", \"key\": \"translatedTo\", \"source\": 6, \"target\": 1}, {\"relation\": \"transcribedTo\", \"key\": \"transcribedTo\", \"source\": 7, \"target\": 3}, {\"relation\": \"translatedTo\", \"key\": \"translatedTo\", \"source\": 8, \"target\": 14}, {\"relation\": \"transcribedTo\", \"key\": \"transcribedTo\", \"source\": 10, \"target\": 6}, {\"citation_type\": \"Pubmed\", \"target\": 12, \"citation_name\": \"That one article from last week\", \"key\": 0, \"relation\": \"directlyDecreases\", \"citation_reference\": \"123455\", \"source\": 11, \"Evidence\": \"Evidence 2\", \"TESTAN2\": \"3\"}, {\"citation_type\": \"Pubmed\", \"target\": 9, \"citation_name\": \"That one article from last week\", \"key\": 0, \"relation\": \"decreases\", \"citation_reference\": \"123455\", \"source\": 11, \"Evidence\": \"Evidence 2\", \"TESTAN2\": \"3\"}, {\"object\": {\"modification\": \"CellSurfaceExpression\", \"params\": {\"fromLoc\": [\"GOCC\", \"intracellular\"], \"toLoc\": [\"GOCC\", \"cell surface\"]}}, \"citation_type\": \"Pubmed\", \"target\": 1, \"citation_name\": \"That other article from last week\", \"key\": 0, \"relation\": \"association\", \"TESTAN1\": \"2\", \"citation_reference\": \"123456\", \"source\": 12, \"Evidence\": \"Evidence 3\", \"subject\": {\"modification\": \"Activity\", \"params\": {\"activity\": [\"MolecularActivity\", \"KinaseActivity\"]}}}, {\"relation\": \"translatedTo\", \"key\": \"translatedTo\", \"source\": 13, \"target\": 11}, {\"citation_type\": \"Pubmed\", \"target\": 11, \"citation_name\": \"That one article from last week\", \"key\": 0, \"relation\": \"increases\", \"citation_reference\": \"123455\", \"source\": 14, \"Evidence\": \"Evidence 1 w extra notes\"}, {\"citation_type\": \"Pubmed\", \"target\": 11, \"citation_name\": \"That other article from last week\", \"key\": 1, \"relation\": \"increases\", \"TESTAN1\": \"2\", \"citation_reference\": \"123456\", \"source\": 14, \"Evidence\": \"Evidence 3\"}], \"directed\": true}, widthx=600, heightx=300;\n",
       "var process_nx = function(d3, chart_id, graph, width, height) {\n",
       "    var color = d3.scale.category20();\n",
       "\n",
       "    var force = d3.layout.force()\n",
       "        .charge(-200)\n",
       "        .linkDistance(40)\n",
       "        .size([width, height]);\n",
       "\n",
       "    var svg = d3.select('#' + chart_id).append(\"svg\")\n",
       "        .attr(\"width\", width)\n",
       "        .attr(\"height\", height);\n",
       "\n",
       "    force\n",
       "      .nodes(graph.nodes)\n",
       "      .links(graph.links)\n",
       "      .start();\n",
       "\n",
       "    var link = svg.selectAll(\".link\")\n",
       "        .data(graph.links)\n",
       "        .enter().append(\"line\")\n",
       "        .attr(\"class\", \"link\")\n",
       "        .attr(\"stroke\", \"#999\")\n",
       "        .attr(\"stroke-width\", 1.5);\n",
       "\n",
       "    var node = svg.selectAll(\".node\")\n",
       "        .data(graph.nodes)\n",
       "        .enter().append(\"g\")\n",
       "        .attr(\"class\", \"node\")\n",
       "        .call(force.drag);\n",
       "\n",
       "    node.append(\"circle\")\n",
       "        .attr(\"r\", 6)\n",
       "        .style(\"fill\", function(d) {\n",
       "            return color(d.color);\n",
       "        });\n",
       "\n",
       "    node.append(\"text\")\n",
       "        .attr(\"dx\", 12)\n",
       "        .attr(\"dy\", \".35em\")\n",
       "        .text(function(d) {\n",
       "            return d.id;\n",
       "        });\n",
       "\n",
       "    force.on(\"tick\", function() {\n",
       "        link.attr(\"x1\", function(d) { return d.source.x; })\n",
       "            .attr(\"y1\", function(d) { return d.source.y; })\n",
       "            .attr(\"x2\", function(d) { return d.target.x; })\n",
       "            .attr(\"y2\", function(d) { return d.target.y; });\n",
       "\n",
       "        node.attr(\"transform\", function(d) {\n",
       "            return \"translate(\" + d.x + \",\" + d.y + \")\";\n",
       "        });\n",
       "    });\n",
       "}\n",
       "\n",
       "        require.config({\n",
       "          paths: {\n",
       "              d3: '//cdnjs.cloudflare.com/ajax/libs/d3/3.4.8/d3.min'\n",
       "          }\n",
       "        });\n",
       "\n",
       "        element.append(\"<div id='\" + chart_idx + \"'></div>\");\n",
       "\n",
       "        require(['d3'], function(d3) {\n",
       "            return process_nx(d3, chart_idx, graphx, widthx, heightx)\n",
       "        })\n",
       "    "
      ],
      "text/plain": [
       "<IPython.core.display.Javascript object>"
      ]
     },
     "execution_count": 4,
     "metadata": {},
     "output_type": "execute_result"
    }
   ],
   "source": [
    "nx2d3.embed_networkx(g, height=300, width=600)"
   ]
  },
  {
   "cell_type": "code",
   "execution_count": 5,
   "metadata": {
    "collapsed": false
   },
   "outputs": [],
   "source": [
    "print_edges = False\n",
    "if print_edges:\n",
    "    for u,v,data in g.edges(data=True):\n",
    "        print(u, v, json.dumps(data, indent=2))"
   ]
  },
  {
   "cell_type": "code",
   "execution_count": 6,
   "metadata": {
    "collapsed": false
   },
   "outputs": [
    {
     "data": {
      "text/plain": [
       "[]"
      ]
     },
     "execution_count": 6,
     "metadata": {},
     "output_type": "execute_result"
    }
   ],
   "source": [
    "neo_path = os.environ['NEO_PATH']\n",
    "neo = py2neo.Graph(neo_path)\n",
    "neo.data('match (n) detach delete n')"
   ]
  },
  {
   "cell_type": "code",
   "execution_count": 7,
   "metadata": {
    "collapsed": false
   },
   "outputs": [
    {
     "name": "stdout",
     "output_type": "stream",
     "text": [
      "{'relation': 'translatedTo'}\n",
      "{'relation': 'transcribedTo'}\n",
      "{'relation': 'translatedTo'}\n",
      "{'relation': 'transcribedTo'}\n",
      "{'relation': 'transcribedTo'}\n",
      "{'relation': 'translatedTo'}\n",
      "{'relation': 'transcribedTo'}\n",
      "{'relation': 'translatedTo'}\n",
      "{'relation': 'transcribedTo'}\n",
      "{'citation_type': 'Pubmed', 'citation_name': 'That one article from last week', 'relation': 'directlyDecreases', 'citation_reference': '123455', 'Evidence': 'Evidence 2', 'TESTAN2': '3'}\n",
      "{'citation_type': 'Pubmed', 'citation_name': 'That one article from last week', 'relation': 'decreases', 'citation_reference': '123455', 'Evidence': 'Evidence 2', 'TESTAN2': '3'}\n",
      "{'object_params_toLoc_value': 'cell surface', 'object_params_fromLoc_namespace': 'GOCC', 'citation_name': 'That other article from last week', 'subject_params_activity_namespace': 'MolecularActivity', 'object_params_toLoc_namespace': 'GOCC', 'citation_type': 'Pubmed', 'Evidence': 'Evidence 3', 'object_params_fromLoc_value': 'intracellular', 'relation': 'association', 'TESTAN1': '2', 'subject_params_activity_value': 'KinaseActivity', 'citation_reference': '123456', '{}_modification': 'CellSurfaceExpression'}\n",
      "{'relation': 'translatedTo'}\n",
      "{'relation': 'increases', 'citation_type': 'Pubmed', 'citation_reference': '123455', 'Evidence': 'Evidence 1 w extra notes', 'citation_name': 'That one article from last week'}\n",
      "{'citation_type': 'Pubmed', 'citation_name': 'That other article from last week', 'relation': 'increases', 'TESTAN1': '2', 'citation_reference': '123456', 'Evidence': 'Evidence 3'}\n"
     ]
    }
   ],
   "source": [
    "g.to_neo4j(neo)"
   ]
  },
  {
   "cell_type": "code",
   "execution_count": 8,
   "metadata": {
    "collapsed": false
   },
   "outputs": [
    {
     "data": {
      "text/plain": [
       "[{'n': (`0`:RNA {name:\"0\",namespace:\"ALPHABET\",value:\"C\"})},\n",
       " {'n': (`1`:Protein {name:\"1\",namespace:\"ALPHABET\",value:\"E\"})},\n",
       " {'n': (`2`:Gene {name:\"2\",namespace:\"ALPHABET\",value:\"B\"})},\n",
       " {'n': (`3`:RNA {name:\"3\",namespace:\"ALPHABET\",value:\"D\"})},\n",
       " {'n': (`4`:Gene {name:\"4\",namespace:\"ALPHABET\",value:\"C\"})},\n",
       " {'n': (`5`:Gene {name:\"5\",namespace:\"ALPHABET\",value:\"A\"})},\n",
       " {'n': (`6`:RNA {name:\"6\",namespace:\"ALPHABET\",value:\"E\"})},\n",
       " {'n': (`7`:Gene {name:\"7\",namespace:\"ALPHABET\",value:\"D\"})},\n",
       " {'n': (`8`:RNA {name:\"8\",namespace:\"ALPHABET\",value:\"A\"})},\n",
       " {'n': (`9`:Protein {name:\"9\",namespace:\"ALPHABET\",value:\"C\"})},\n",
       " {'n': (`10`:Gene {name:\"10\",namespace:\"ALPHABET\",value:\"E\"})},\n",
       " {'n': (`11`:Protein {name:\"11\",namespace:\"ALPHABET\",value:\"B\"})},\n",
       " {'n': (`12`:Protein {name:\"12\",namespace:\"ALPHABET\",value:\"D\"})},\n",
       " {'n': (`13`:RNA {name:\"13\",namespace:\"ALPHABET\",value:\"B\"})},\n",
       " {'n': (`14`:Protein {name:\"14\",namespace:\"ALPHABET\",value:\"A\"})}]"
      ]
     },
     "execution_count": 8,
     "metadata": {},
     "output_type": "execute_result"
    }
   ],
   "source": [
    "neo.data('match (n) return n')"
   ]
  },
  {
   "cell_type": "code",
   "execution_count": 10,
   "metadata": {
    "collapsed": false
   },
   "outputs": [
    {
     "name": "stdout",
     "output_type": "stream",
     "text": [
      " n.namespace  n.value  k.relation         m.namespace  m.value \n",
      "---------------------------------------------------------------\n",
      " ALPHABET     C        transcribedTo      ALPHABET     C       \n",
      " ALPHABET     C        translatedTo       ALPHABET     C       \n",
      " ALPHABET     E        association        ALPHABET     D       \n",
      " ALPHABET     E        translatedTo       ALPHABET     E       \n",
      " ALPHABET     B        transcribedTo      ALPHABET     B       \n",
      " ALPHABET     D        transcribedTo      ALPHABET     D       \n",
      " ALPHABET     D        translatedTo       ALPHABET     D       \n",
      " ALPHABET     C        transcribedTo      ALPHABET     C       \n",
      " ALPHABET     A        transcribedTo      ALPHABET     A       \n",
      " ALPHABET     E        transcribedTo      ALPHABET     E       \n",
      " ALPHABET     E        translatedTo       ALPHABET     E       \n",
      " ALPHABET     D        transcribedTo      ALPHABET     D       \n",
      " ALPHABET     A        translatedTo       ALPHABET     A       \n",
      " ALPHABET     A        transcribedTo      ALPHABET     A       \n",
      " ALPHABET     C        decreases          ALPHABET     B       \n",
      " ALPHABET     C        translatedTo       ALPHABET     C       \n",
      " ALPHABET     E        transcribedTo      ALPHABET     E       \n",
      " ALPHABET     B        decreases          ALPHABET     C       \n",
      " ALPHABET     B        translatedTo       ALPHABET     B       \n",
      " ALPHABET     B        increases          ALPHABET     A       \n",
      " ALPHABET     B        directlyDecreases  ALPHABET     D       \n",
      " ALPHABET     D        association        ALPHABET     E       \n",
      " ALPHABET     D        directlyDecreases  ALPHABET     B       \n",
      " ALPHABET     D        translatedTo       ALPHABET     D       \n",
      " ALPHABET     B        translatedTo       ALPHABET     B       \n",
      " ALPHABET     B        transcribedTo      ALPHABET     B       \n",
      " ALPHABET     A        increases          ALPHABET     B       \n",
      " ALPHABET     A        translatedTo       ALPHABET     A       \n"
     ]
    }
   ],
   "source": [
    "r = neo.run('match (n)-[k]-(m) return n.namespace, n.value, k.relation, m.namespace, m.value')\n",
    "r.dump()"
   ]
  }
 ],
 "metadata": {
  "kernelspec": {
   "display_name": "Python 3",
   "language": "python",
   "name": "python3"
  },
  "language_info": {
   "codemirror_mode": {
    "name": "ipython",
    "version": 3
   },
   "file_extension": ".py",
   "mimetype": "text/x-python",
   "name": "python",
   "nbconvert_exporter": "python",
   "pygments_lexer": "ipython3",
   "version": "3.5.2"
  }
 },
 "nbformat": 4,
 "nbformat_minor": 1
}

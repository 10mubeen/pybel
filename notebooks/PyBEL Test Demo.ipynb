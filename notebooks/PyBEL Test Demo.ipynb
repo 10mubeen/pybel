{
 "cells": [
  {
   "cell_type": "code",
   "execution_count": 1,
   "metadata": {
    "collapsed": false
   },
   "outputs": [
    {
     "data": {
      "text/plain": [
       "'Wed Oct  5 22:00:35 2016'"
      ]
     },
     "execution_count": 1,
     "metadata": {},
     "output_type": "execute_result"
    }
   ],
   "source": [
    "import pybel\n",
    "import os\n",
    "import logging\n",
    "import nx2d3\n",
    "import py2neo\n",
    "import json\n",
    "import time\n",
    "\n",
    "time.asctime()"
   ]
  },
  {
   "cell_type": "code",
   "execution_count": 2,
   "metadata": {
    "collapsed": true
   },
   "outputs": [],
   "source": [
    "base = os.environ['PYBEL_BASE']\n",
    "path = os.path.join(base, 'tests', 'bel', 'test_bel_1.bel')"
   ]
  },
  {
   "cell_type": "code",
   "execution_count": 3,
   "metadata": {
    "collapsed": false
   },
   "outputs": [],
   "source": [
    "g = pybel.from_bel(path)"
   ]
  },
  {
   "cell_type": "code",
   "execution_count": 4,
   "metadata": {
    "collapsed": false
   },
   "outputs": [
    {
     "data": {
      "application/javascript": [
       "var chart_idx='ozedbqtpkmcxgjrh', graphx={\"links\": [{\"relation\": \"transcribedTo\", \"source\": 2, \"target\": 8, \"key\": \"transcribedTo\"}, {\"relation\": \"transcribedTo\", \"source\": 3, \"target\": 7, \"key\": \"transcribedTo\"}, {\"relation\": \"transcribedTo\", \"source\": 4, \"target\": 10, \"key\": \"transcribedTo\"}, {\"relation\": \"transcribedTo\", \"source\": 5, \"target\": 13, \"key\": \"transcribedTo\"}, {\"TESTAN1\": \"2\", \"relation\": \"association\", \"source\": 6, \"key\": 0, \"citation_type\": \"Pubmed\", \"citation_name\": \"That other article from last week\", \"subject\": {\"params\": {\"molecularActivity\": \"KinaseActivity\"}, \"modification\": \"Activity\"}, \"citation_reference\": \"123456\", \"Evidence\": \"Evidence 3\", \"target\": 0, \"object\": {\"params\": {\"fromLoc\": {\"name\": \"intracellular\", \"namespace\": \"GOCC\"}, \"toLoc\": {\"name\": \"cell surface\", \"namespace\": \"GOCC\"}}, \"modification\": \"CellSurfaceExpression\"}}, {\"relation\": \"translatedTo\", \"source\": 7, \"target\": 1, \"key\": \"translatedTo\"}, {\"relation\": \"translatedTo\", \"source\": 8, \"target\": 0, \"key\": \"translatedTo\"}, {\"relation\": \"directlyDecreases\", \"TESTAN2\": \"3\", \"citation_name\": \"That one article from last week\", \"source\": 9, \"citation_type\": \"Pubmed\", \"citation_reference\": \"123455\", \"Evidence\": \"Evidence 2\", \"target\": 6, \"key\": 0}, {\"relation\": \"decreases\", \"TESTAN2\": \"3\", \"citation_name\": \"That one article from last week\", \"source\": 9, \"citation_type\": \"Pubmed\", \"citation_reference\": \"123455\", \"Evidence\": \"Evidence 2\", \"target\": 1, \"key\": 0}, {\"relation\": \"translatedTo\", \"source\": 10, \"target\": 6, \"key\": \"translatedTo\"}, {\"relation\": \"translatedTo\", \"source\": 11, \"target\": 14, \"key\": \"translatedTo\"}, {\"relation\": \"transcribedTo\", \"source\": 12, \"target\": 11, \"key\": \"transcribedTo\"}, {\"relation\": \"translatedTo\", \"source\": 13, \"target\": 9, \"key\": \"translatedTo\"}, {\"relation\": \"increases\", \"key\": 0, \"citation_name\": \"That one article from last week\", \"source\": 14, \"citation_type\": \"Pubmed\", \"citation_reference\": \"123455\", \"Evidence\": \"Evidence 1 w extra notes\", \"target\": 9}, {\"TESTAN1\": \"2\", \"relation\": \"increases\", \"key\": 1, \"citation_name\": \"That other article from last week\", \"source\": 14, \"citation_type\": \"Pubmed\", \"citation_reference\": \"123456\", \"Evidence\": \"Evidence 3\", \"target\": 9}], \"multigraph\": true, \"nodes\": [{\"id\": [\"Protein\", \"ALPHABET\", \"E\"], \"type\": \"Protein\", \"namespace\": \"ALPHABET\", \"value\": \"E\"}, {\"id\": [\"Protein\", \"ALPHABET\", \"C\"], \"type\": \"Protein\", \"namespace\": \"ALPHABET\", \"value\": \"C\"}, {\"id\": [\"Gene\", \"ALPHABET\", \"E\"], \"type\": \"Gene\", \"namespace\": \"ALPHABET\", \"value\": \"E\"}, {\"id\": [\"Gene\", \"ALPHABET\", \"C\"], \"type\": \"Gene\", \"namespace\": \"ALPHABET\", \"value\": \"C\"}, {\"id\": [\"Gene\", \"ALPHABET\", \"D\"], \"type\": \"Gene\", \"namespace\": \"ALPHABET\", \"value\": \"D\"}, {\"id\": [\"Gene\", \"ALPHABET\", \"B\"], \"type\": \"Gene\", \"namespace\": \"ALPHABET\", \"value\": \"B\"}, {\"id\": [\"Protein\", \"ALPHABET\", \"D\"], \"type\": \"Protein\", \"namespace\": \"ALPHABET\", \"value\": \"D\"}, {\"id\": [\"RNA\", \"ALPHABET\", \"C\"], \"type\": \"RNA\", \"namespace\": \"ALPHABET\", \"value\": \"C\"}, {\"id\": [\"RNA\", \"ALPHABET\", \"E\"], \"type\": \"RNA\", \"namespace\": \"ALPHABET\", \"value\": \"E\"}, {\"id\": [\"Protein\", \"ALPHABET\", \"B\"], \"type\": \"Protein\", \"namespace\": \"ALPHABET\", \"value\": \"B\"}, {\"id\": [\"RNA\", \"ALPHABET\", \"D\"], \"type\": \"RNA\", \"namespace\": \"ALPHABET\", \"value\": \"D\"}, {\"id\": [\"RNA\", \"ALPHABET\", \"A\"], \"type\": \"RNA\", \"namespace\": \"ALPHABET\", \"value\": \"A\"}, {\"id\": [\"Gene\", \"ALPHABET\", \"A\"], \"type\": \"Gene\", \"namespace\": \"ALPHABET\", \"value\": \"A\"}, {\"id\": [\"RNA\", \"ALPHABET\", \"B\"], \"type\": \"RNA\", \"namespace\": \"ALPHABET\", \"value\": \"B\"}, {\"id\": [\"Protein\", \"ALPHABET\", \"A\"], \"type\": \"Protein\", \"namespace\": \"ALPHABET\", \"value\": \"A\"}], \"graph\": {}, \"directed\": true}, widthx=600, heightx=300;\n",
       "var process_nx = function(d3, chart_id, graph, width, height) {\n",
       "    var color = d3.scale.category20();\n",
       "\n",
       "    var force = d3.layout.force()\n",
       "        .charge(-200)\n",
       "        .linkDistance(40)\n",
       "        .size([width, height]);\n",
       "\n",
       "    var svg = d3.select('#' + chart_id).append(\"svg\")\n",
       "        .attr(\"width\", width)\n",
       "        .attr(\"height\", height);\n",
       "\n",
       "    force\n",
       "      .nodes(graph.nodes)\n",
       "      .links(graph.links)\n",
       "      .start();\n",
       "\n",
       "    var link = svg.selectAll(\".link\")\n",
       "        .data(graph.links)\n",
       "        .enter().append(\"line\")\n",
       "        .attr(\"class\", \"link\")\n",
       "        .attr(\"stroke\", \"#999\")\n",
       "        .attr(\"stroke-width\", 1.5);\n",
       "\n",
       "    var node = svg.selectAll(\".node\")\n",
       "        .data(graph.nodes)\n",
       "        .enter().append(\"g\")\n",
       "        .attr(\"class\", \"node\")\n",
       "        .call(force.drag);\n",
       "\n",
       "    node.append(\"circle\")\n",
       "        .attr(\"r\", 6)\n",
       "        .style(\"fill\", function(d) {\n",
       "            return color(d.color);\n",
       "        });\n",
       "\n",
       "    node.append(\"text\")\n",
       "        .attr(\"dx\", 12)\n",
       "        .attr(\"dy\", \".35em\")\n",
       "        .text(function(d) {\n",
       "            return d.id;\n",
       "        });\n",
       "\n",
       "    force.on(\"tick\", function() {\n",
       "        link.attr(\"x1\", function(d) { return d.source.x; })\n",
       "            .attr(\"y1\", function(d) { return d.source.y; })\n",
       "            .attr(\"x2\", function(d) { return d.target.x; })\n",
       "            .attr(\"y2\", function(d) { return d.target.y; });\n",
       "\n",
       "        node.attr(\"transform\", function(d) {\n",
       "            return \"translate(\" + d.x + \",\" + d.y + \")\";\n",
       "        });\n",
       "    });\n",
       "}\n",
       "\n",
       "        require.config({\n",
       "          paths: {\n",
       "              d3: '//cdnjs.cloudflare.com/ajax/libs/d3/3.4.8/d3.min'\n",
       "          }\n",
       "        });\n",
       "\n",
       "        element.append(\"<div id='\" + chart_idx + \"'></div>\");\n",
       "\n",
       "        require(['d3'], function(d3) {\n",
       "            return process_nx(d3, chart_idx, graphx, widthx, heightx)\n",
       "        })\n",
       "    "
      ],
      "text/plain": [
       "<IPython.core.display.Javascript object>"
      ]
     },
     "execution_count": 4,
     "metadata": {},
     "output_type": "execute_result"
    }
   ],
   "source": [
    "nx2d3.embed_networkx(g, height=300, width=600)"
   ]
  },
  {
   "cell_type": "code",
   "execution_count": 5,
   "metadata": {
    "collapsed": false
   },
   "outputs": [
    {
     "name": "stdout",
     "output_type": "stream",
     "text": [
      "('Gene', 'ALPHABET', 'E') ('RNA', 'ALPHABET', 'E') {\n",
      "  \"relation\": \"transcribedTo\"\n",
      "}\n",
      "('Gene', 'ALPHABET', 'C') ('RNA', 'ALPHABET', 'C') {\n",
      "  \"relation\": \"transcribedTo\"\n",
      "}\n",
      "('Gene', 'ALPHABET', 'D') ('RNA', 'ALPHABET', 'D') {\n",
      "  \"relation\": \"transcribedTo\"\n",
      "}\n",
      "('Gene', 'ALPHABET', 'B') ('RNA', 'ALPHABET', 'B') {\n",
      "  \"relation\": \"transcribedTo\"\n",
      "}\n",
      "('Protein', 'ALPHABET', 'D') ('Protein', 'ALPHABET', 'E') {\n",
      "  \"TESTAN1\": \"2\",\n",
      "  \"relation\": \"association\",\n",
      "  \"citation_reference\": \"123456\",\n",
      "  \"object\": {\n",
      "    \"params\": {\n",
      "      \"fromLoc\": {\n",
      "        \"name\": \"intracellular\",\n",
      "        \"namespace\": \"GOCC\"\n",
      "      },\n",
      "      \"toLoc\": {\n",
      "        \"name\": \"cell surface\",\n",
      "        \"namespace\": \"GOCC\"\n",
      "      }\n",
      "    },\n",
      "    \"modification\": \"CellSurfaceExpression\"\n",
      "  },\n",
      "  \"citation_type\": \"Pubmed\",\n",
      "  \"citation_name\": \"That other article from last week\",\n",
      "  \"subject\": {\n",
      "    \"params\": {\n",
      "      \"molecularActivity\": \"KinaseActivity\"\n",
      "    },\n",
      "    \"modification\": \"Activity\"\n",
      "  },\n",
      "  \"Evidence\": \"Evidence 3\"\n",
      "}\n",
      "('RNA', 'ALPHABET', 'C') ('Protein', 'ALPHABET', 'C') {\n",
      "  \"relation\": \"translatedTo\"\n",
      "}\n",
      "('RNA', 'ALPHABET', 'E') ('Protein', 'ALPHABET', 'E') {\n",
      "  \"relation\": \"translatedTo\"\n",
      "}\n",
      "('Protein', 'ALPHABET', 'B') ('Protein', 'ALPHABET', 'D') {\n",
      "  \"relation\": \"directlyDecreases\",\n",
      "  \"TESTAN2\": \"3\",\n",
      "  \"citation_type\": \"Pubmed\",\n",
      "  \"Evidence\": \"Evidence 2\",\n",
      "  \"citation_name\": \"That one article from last week\",\n",
      "  \"citation_reference\": \"123455\"\n",
      "}\n",
      "('Protein', 'ALPHABET', 'B') ('Protein', 'ALPHABET', 'C') {\n",
      "  \"relation\": \"decreases\",\n",
      "  \"TESTAN2\": \"3\",\n",
      "  \"citation_type\": \"Pubmed\",\n",
      "  \"Evidence\": \"Evidence 2\",\n",
      "  \"citation_name\": \"That one article from last week\",\n",
      "  \"citation_reference\": \"123455\"\n",
      "}\n",
      "('RNA', 'ALPHABET', 'D') ('Protein', 'ALPHABET', 'D') {\n",
      "  \"relation\": \"translatedTo\"\n",
      "}\n",
      "('RNA', 'ALPHABET', 'A') ('Protein', 'ALPHABET', 'A') {\n",
      "  \"relation\": \"translatedTo\"\n",
      "}\n",
      "('Gene', 'ALPHABET', 'A') ('RNA', 'ALPHABET', 'A') {\n",
      "  \"relation\": \"transcribedTo\"\n",
      "}\n",
      "('RNA', 'ALPHABET', 'B') ('Protein', 'ALPHABET', 'B') {\n",
      "  \"relation\": \"translatedTo\"\n",
      "}\n",
      "('Protein', 'ALPHABET', 'A') ('Protein', 'ALPHABET', 'B') {\n",
      "  \"relation\": \"increases\",\n",
      "  \"citation_type\": \"Pubmed\",\n",
      "  \"citation_name\": \"That one article from last week\",\n",
      "  \"Evidence\": \"Evidence 1 w extra notes\",\n",
      "  \"citation_reference\": \"123455\"\n",
      "}\n",
      "('Protein', 'ALPHABET', 'A') ('Protein', 'ALPHABET', 'B') {\n",
      "  \"TESTAN1\": \"2\",\n",
      "  \"relation\": \"increases\",\n",
      "  \"citation_type\": \"Pubmed\",\n",
      "  \"Evidence\": \"Evidence 3\",\n",
      "  \"citation_name\": \"That other article from last week\",\n",
      "  \"citation_reference\": \"123456\"\n",
      "}\n"
     ]
    }
   ],
   "source": [
    "print_edges = True\n",
    "if print_edges:\n",
    "    for u,v,data in g.edges(data=True):\n",
    "        print(u, v, json.dumps(data, indent=2))"
   ]
  },
  {
   "cell_type": "code",
   "execution_count": 6,
   "metadata": {
    "collapsed": false
   },
   "outputs": [
    {
     "data": {
      "text/plain": [
       "[]"
      ]
     },
     "execution_count": 6,
     "metadata": {},
     "output_type": "execute_result"
    }
   ],
   "source": [
    "neo_path = os.environ['NEO_PATH']\n",
    "neo = py2neo.Graph(neo_path)\n",
    "neo.data('match (n) detach delete n')"
   ]
  },
  {
   "cell_type": "code",
   "execution_count": 7,
   "metadata": {
    "collapsed": false
   },
   "outputs": [
    {
     "name": "stdout",
     "output_type": "stream",
     "text": [
      "{'relation': 'transcribedTo'}\n",
      "{'relation': 'transcribedTo'}\n",
      "{'relation': 'transcribedTo'}\n",
      "{'relation': 'transcribedTo'}\n",
      "{'TESTAN1': '2', 'relation': 'association', 'subject_modification': 'Activity', 'object_params_fromLoc_namespace': 'GOCC', 'object_params_toLoc_value': 'cell surface', 'citation_reference': '123456', 'object_modification': 'CellSurfaceExpression', 'object_params_fromLoc_value': 'intracellular', 'citation_name': 'That other article from last week', 'citation_type': 'Pubmed', 'Evidence': 'Evidence 3', 'object_params_toLoc_namespace': 'GOCC'}\n",
      "{'relation': 'translatedTo'}\n",
      "{'relation': 'translatedTo'}\n",
      "{'relation': 'directlyDecreases', 'TESTAN2': '3', 'citation_type': 'Pubmed', 'citation_name': 'That one article from last week', 'citation_reference': '123455', 'Evidence': 'Evidence 2'}\n",
      "{'relation': 'decreases', 'TESTAN2': '3', 'citation_type': 'Pubmed', 'citation_name': 'That one article from last week', 'citation_reference': '123455', 'Evidence': 'Evidence 2'}\n",
      "{'relation': 'translatedTo'}\n",
      "{'relation': 'translatedTo'}\n",
      "{'relation': 'transcribedTo'}\n",
      "{'relation': 'translatedTo'}\n",
      "{'relation': 'increases', 'citation_type': 'Pubmed', 'citation_reference': '123455', 'Evidence': 'Evidence 1 w extra notes', 'citation_name': 'That one article from last week'}\n",
      "{'TESTAN1': '2', 'relation': 'increases', 'citation_type': 'Pubmed', 'citation_name': 'That other article from last week', 'citation_reference': '123456', 'Evidence': 'Evidence 3'}\n"
     ]
    }
   ],
   "source": [
    "g.to_neo4j(neo)"
   ]
  },
  {
   "cell_type": "code",
   "execution_count": 8,
   "metadata": {
    "collapsed": false
   },
   "outputs": [
    {
     "data": {
      "text/plain": [
       "[{'n': (`0`:Protein {name:\"0\",namespace:\"ALPHABET\",value:\"E\"})},\n",
       " {'n': (`13`:RNA {name:\"13\",namespace:\"ALPHABET\",value:\"B\"})},\n",
       " {'n': (`1`:Protein {name:\"1\",namespace:\"ALPHABET\",value:\"C\"})},\n",
       " {'n': (`7`:RNA {name:\"7\",namespace:\"ALPHABET\",value:\"C\"})},\n",
       " {'n': (`8`:RNA {name:\"8\",namespace:\"ALPHABET\",value:\"E\"})},\n",
       " {'n': (`6`:Protein {name:\"6\",namespace:\"ALPHABET\",value:\"D\"})},\n",
       " {'n': (`3`:Gene {name:\"3\",namespace:\"ALPHABET\",value:\"C\"})},\n",
       " {'n': (`2`:Gene {name:\"2\",namespace:\"ALPHABET\",value:\"E\"})},\n",
       " {'n': (`9`:Protein {name:\"9\",namespace:\"ALPHABET\",value:\"B\"})},\n",
       " {'n': (`14`:Protein {name:\"14\",namespace:\"ALPHABET\",value:\"A\"})},\n",
       " {'n': (`4`:Gene {name:\"4\",namespace:\"ALPHABET\",value:\"D\"})},\n",
       " {'n': (`10`:RNA {name:\"10\",namespace:\"ALPHABET\",value:\"D\"})},\n",
       " {'n': (`11`:RNA {name:\"11\",namespace:\"ALPHABET\",value:\"A\"})},\n",
       " {'n': (`5`:Gene {name:\"5\",namespace:\"ALPHABET\",value:\"B\"})},\n",
       " {'n': (`12`:Gene {name:\"12\",namespace:\"ALPHABET\",value:\"A\"})}]"
      ]
     },
     "execution_count": 8,
     "metadata": {},
     "output_type": "execute_result"
    }
   ],
   "source": [
    "neo.data('match (n) return n')"
   ]
  },
  {
   "cell_type": "code",
   "execution_count": 9,
   "metadata": {
    "collapsed": false
   },
   "outputs": [
    {
     "name": "stdout",
     "output_type": "stream",
     "text": [
      " n.namespace  n.value  k.relation         m.namespace  m.value \n",
      "---------------------------------------------------------------\n",
      " ALPHABET     E        translatedTo       ALPHABET     E       \n",
      " ALPHABET     E        association        ALPHABET     D       \n",
      " ALPHABET     B        translatedTo       ALPHABET     B       \n",
      " ALPHABET     B        transcribedTo      ALPHABET     B       \n",
      " ALPHABET     C        decreases          ALPHABET     B       \n",
      " ALPHABET     C        translatedTo       ALPHABET     C       \n",
      " ALPHABET     C        transcribedTo      ALPHABET     C       \n",
      " ALPHABET     C        translatedTo       ALPHABET     C       \n",
      " ALPHABET     E        transcribedTo      ALPHABET     E       \n",
      " ALPHABET     E        translatedTo       ALPHABET     E       \n",
      " ALPHABET     D        directlyDecreases  ALPHABET     B       \n",
      " ALPHABET     D        translatedTo       ALPHABET     D       \n",
      " ALPHABET     D        association        ALPHABET     E       \n",
      " ALPHABET     C        transcribedTo      ALPHABET     C       \n",
      " ALPHABET     E        transcribedTo      ALPHABET     E       \n",
      " ALPHABET     B        translatedTo       ALPHABET     B       \n",
      " ALPHABET     B        increases          ALPHABET     A       \n",
      " ALPHABET     B        directlyDecreases  ALPHABET     D       \n",
      " ALPHABET     B        decreases          ALPHABET     C       \n",
      " ALPHABET     A        increases          ALPHABET     B       \n",
      " ALPHABET     A        translatedTo       ALPHABET     A       \n",
      " ALPHABET     D        transcribedTo      ALPHABET     D       \n",
      " ALPHABET     D        translatedTo       ALPHABET     D       \n",
      " ALPHABET     D        transcribedTo      ALPHABET     D       \n",
      " ALPHABET     A        translatedTo       ALPHABET     A       \n",
      " ALPHABET     A        transcribedTo      ALPHABET     A       \n",
      " ALPHABET     B        transcribedTo      ALPHABET     B       \n",
      " ALPHABET     A        transcribedTo      ALPHABET     A       \n"
     ]
    }
   ],
   "source": [
    "r = neo.run('match (n)-[k]-(m) return n.namespace, n.value, k.relation, m.namespace, m.value')\n",
    "r.dump()"
   ]
  }
 ],
 "metadata": {
  "kernelspec": {
   "display_name": "Python 3",
   "language": "python",
   "name": "python3"
  },
  "language_info": {
   "codemirror_mode": {
    "name": "ipython",
    "version": 3
   },
   "file_extension": ".py",
   "mimetype": "text/x-python",
   "name": "python",
   "nbconvert_exporter": "python",
   "pygments_lexer": "ipython3",
   "version": "3.5.2"
  }
 },
 "nbformat": 4,
 "nbformat_minor": 1
}

{
 "cells": [
  {
   "cell_type": "code",
   "execution_count": 1,
   "metadata": {
    "collapsed": true
   },
   "outputs": [],
   "source": [
    "import pybel\n",
    "import os\n",
    "import logging\n",
    "import nx2d3\n",
    "import py2neo\n",
    "import json\n",
    "import time"
   ]
  },
  {
   "cell_type": "code",
   "execution_count": 2,
   "metadata": {
    "collapsed": true
   },
   "outputs": [],
   "source": [
    "logging.basicConfig(level=logging.INFO)\n",
    "logging.getLogger(\"requests\").setLevel(logging.WARNING)\n",
    "logging.getLogger('neo4j.bolt').setLevel(logging.WARNING)"
   ]
  },
  {
   "cell_type": "code",
   "execution_count": 3,
   "metadata": {
    "collapsed": false
   },
   "outputs": [
    {
     "data": {
      "text/plain": [
       "'Mon Oct 10 00:59:08 2016'"
      ]
     },
     "execution_count": 3,
     "metadata": {},
     "output_type": "execute_result"
    }
   ],
   "source": [
    "time.asctime()"
   ]
  },
  {
   "cell_type": "code",
   "execution_count": 4,
   "metadata": {
    "collapsed": true
   },
   "outputs": [],
   "source": [
    "base = os.environ['PYBEL_BASE']\n",
    "path = os.path.join(base, 'tests', 'bel', 'test_bel_1.bel')"
   ]
  },
  {
   "cell_type": "code",
   "execution_count": 5,
   "metadata": {
    "collapsed": false
   },
   "outputs": [
    {
     "name": "stderr",
     "output_type": "stream",
     "text": [
      "INFO:pybel.parser.utils:File length: 26 lines\n",
      "INFO:pybel.graph:Finished parsing document section in 0.01 seconds\n",
      "INFO:pybel.graph:Finished parsing definitions section in 2.04 seconds\n",
      "INFO:pybel.graph:Finished parsing statements section in 43.84 seconds\n"
     ]
    }
   ],
   "source": [
    "g = pybel.from_path(path)"
   ]
  },
  {
   "cell_type": "code",
   "execution_count": 6,
   "metadata": {
    "collapsed": false
   },
   "outputs": [
    {
     "data": {
      "application/javascript": [
       "var chart_idx='uosamqrjpqeczdhy', graphx={\"graph\": {}, \"directed\": true, \"nodes\": [{\"namespace\": \"ALPHABET\", \"type\": \"Gene\", \"name\": \"E\", \"id\": [\"Gene\", \"ALPHABET\", \"E\"]}, {\"namespace\": \"ALPHABET\", \"type\": \"RNA\", \"name\": \"B\", \"id\": [\"RNA\", \"ALPHABET\", \"B\"]}, {\"namespace\": \"ALPHABET\", \"type\": \"Protein\", \"name\": \"A\", \"id\": [\"Protein\", \"ALPHABET\", \"A\"]}, {\"namespace\": \"ALPHABET\", \"type\": \"Protein\", \"name\": \"D\", \"id\": [\"Protein\", \"ALPHABET\", \"D\"]}, {\"namespace\": \"ALPHABET\", \"type\": \"RNA\", \"name\": \"C\", \"id\": [\"RNA\", \"ALPHABET\", \"C\"]}, {\"namespace\": \"ALPHABET\", \"type\": \"RNA\", \"name\": \"D\", \"id\": [\"RNA\", \"ALPHABET\", \"D\"]}, {\"namespace\": \"ALPHABET\", \"type\": \"Protein\", \"name\": \"B\", \"id\": [\"Protein\", \"ALPHABET\", \"B\"]}, {\"namespace\": \"ALPHABET\", \"type\": \"Gene\", \"name\": \"C\", \"id\": [\"Gene\", \"ALPHABET\", \"C\"]}, {\"namespace\": \"ALPHABET\", \"type\": \"Protein\", \"name\": \"E\", \"id\": [\"Protein\", \"ALPHABET\", \"E\"]}, {\"namespace\": \"ALPHABET\", \"type\": \"Gene\", \"name\": \"D\", \"id\": [\"Gene\", \"ALPHABET\", \"D\"]}, {\"namespace\": \"ALPHABET\", \"type\": \"RNA\", \"name\": \"E\", \"id\": [\"RNA\", \"ALPHABET\", \"E\"]}, {\"namespace\": \"ALPHABET\", \"type\": \"Gene\", \"name\": \"A\", \"id\": [\"Gene\", \"ALPHABET\", \"A\"]}, {\"namespace\": \"ALPHABET\", \"type\": \"Gene\", \"name\": \"B\", \"id\": [\"Gene\", \"ALPHABET\", \"B\"]}, {\"namespace\": \"ALPHABET\", \"type\": \"Protein\", \"name\": \"C\", \"id\": [\"Protein\", \"ALPHABET\", \"C\"]}, {\"namespace\": \"ALPHABET\", \"type\": \"RNA\", \"name\": \"A\", \"id\": [\"RNA\", \"ALPHABET\", \"A\"]}], \"links\": [{\"target\": 10, \"key\": \"transcribedTo\", \"relation\": \"transcribedTo\", \"source\": 0}, {\"target\": 6, \"key\": \"translatedTo\", \"relation\": \"translatedTo\", \"source\": 1}, {\"key\": 0, \"relation\": \"increases\", \"citation_type\": \"Pubmed\", \"target\": 6, \"citation_reference\": \"123455\", \"Evidence\": \"Evidence 1 w extra notes\", \"citation_name\": \"That one article from last week\", \"source\": 2}, {\"object\": {\"modifier\": \"Translocation\", \"effect\": {\"fromLoc\": {\"namespace\": \"GOCC\", \"name\": \"intracellular\"}, \"toLoc\": {\"namespace\": \"GOCC\", \"name\": \"cell surface\"}}}, \"key\": 0, \"relation\": \"association\", \"subject\": {\"modifier\": \"Activity\", \"effect\": {\"MolecularActivity\": \"KinaseActivity\"}}, \"citation_type\": \"Pubmed\", \"target\": 8, \"Evidence\": \"Evidence 3\", \"TESTAN1\": \"2\", \"citation_reference\": \"123456\", \"citation_name\": \"That other article from last week\", \"source\": 3}, {\"target\": 13, \"key\": \"translatedTo\", \"relation\": \"translatedTo\", \"source\": 4}, {\"target\": 3, \"key\": \"translatedTo\", \"relation\": \"translatedTo\", \"source\": 5}, {\"target\": 3, \"relation\": \"directlyDecreases\", \"citation_type\": \"Pubmed\", \"TESTAN2\": \"3\", \"key\": 0, \"citation_reference\": \"123455\", \"Evidence\": \"Evidence 2\", \"citation_name\": \"That one article from last week\", \"source\": 6}, {\"target\": 13, \"relation\": \"decreases\", \"citation_type\": \"Pubmed\", \"TESTAN2\": \"3\", \"key\": 0, \"citation_reference\": \"123455\", \"Evidence\": \"Evidence 2\", \"citation_name\": \"That one article from last week\", \"source\": 6}, {\"target\": 4, \"key\": \"transcribedTo\", \"relation\": \"transcribedTo\", \"source\": 7}, {\"object\": {\"modifier\": \"Translocation\", \"effect\": {\"fromLoc\": {\"namespace\": \"GOCC\", \"name\": \"intracellular\"}, \"toLoc\": {\"namespace\": \"GOCC\", \"name\": \"cell surface\"}}}, \"key\": 0, \"relation\": \"association\", \"subject\": {\"modifier\": \"Activity\", \"effect\": {\"MolecularActivity\": \"KinaseActivity\"}}, \"citation_type\": \"Pubmed\", \"target\": 3, \"Evidence\": \"Evidence 3\", \"TESTAN1\": \"2\", \"citation_reference\": \"123456\", \"citation_name\": \"That other article from last week\", \"source\": 8}, {\"target\": 5, \"key\": \"transcribedTo\", \"relation\": \"transcribedTo\", \"source\": 9}, {\"target\": 8, \"key\": \"translatedTo\", \"relation\": \"translatedTo\", \"source\": 10}, {\"target\": 14, \"key\": \"transcribedTo\", \"relation\": \"transcribedTo\", \"source\": 11}, {\"target\": 1, \"key\": \"transcribedTo\", \"relation\": \"transcribedTo\", \"source\": 12}, {\"target\": 2, \"key\": \"translatedTo\", \"relation\": \"translatedTo\", \"source\": 14}], \"multigraph\": true}, widthx=600, heightx=300;\n",
       "var process_nx = function(d3, chart_id, graph, width, height) {\n",
       "    var color = d3.scale.category20();\n",
       "\n",
       "    var force = d3.layout.force()\n",
       "        .charge(-200)\n",
       "        .linkDistance(40)\n",
       "        .size([width, height]);\n",
       "\n",
       "    var svg = d3.select('#' + chart_id).append(\"svg\")\n",
       "        .attr(\"width\", width)\n",
       "        .attr(\"height\", height);\n",
       "\n",
       "    force\n",
       "      .nodes(graph.nodes)\n",
       "      .links(graph.links)\n",
       "      .start();\n",
       "\n",
       "    var link = svg.selectAll(\".link\")\n",
       "        .data(graph.links)\n",
       "        .enter().append(\"line\")\n",
       "        .attr(\"class\", \"link\")\n",
       "        .attr(\"stroke\", \"#999\")\n",
       "        .attr(\"stroke-width\", 1.5);\n",
       "\n",
       "    var node = svg.selectAll(\".node\")\n",
       "        .data(graph.nodes)\n",
       "        .enter().append(\"g\")\n",
       "        .attr(\"class\", \"node\")\n",
       "        .call(force.drag);\n",
       "\n",
       "    node.append(\"circle\")\n",
       "        .attr(\"r\", 6)\n",
       "        .style(\"fill\", function(d) {\n",
       "            return color(d.color);\n",
       "        });\n",
       "\n",
       "    node.append(\"text\")\n",
       "        .attr(\"dx\", 12)\n",
       "        .attr(\"dy\", \".35em\")\n",
       "        .text(function(d) {\n",
       "            return d.id;\n",
       "        });\n",
       "\n",
       "    force.on(\"tick\", function() {\n",
       "        link.attr(\"x1\", function(d) { return d.source.x; })\n",
       "            .attr(\"y1\", function(d) { return d.source.y; })\n",
       "            .attr(\"x2\", function(d) { return d.target.x; })\n",
       "            .attr(\"y2\", function(d) { return d.target.y; });\n",
       "\n",
       "        node.attr(\"transform\", function(d) {\n",
       "            return \"translate(\" + d.x + \",\" + d.y + \")\";\n",
       "        });\n",
       "    });\n",
       "}\n",
       "\n",
       "        require.config({\n",
       "          paths: {\n",
       "              d3: '//cdnjs.cloudflare.com/ajax/libs/d3/3.4.8/d3.min'\n",
       "          }\n",
       "        });\n",
       "\n",
       "        element.append(\"<div id='\" + chart_idx + \"'></div>\");\n",
       "\n",
       "        require(['d3'], function(d3) {\n",
       "            return process_nx(d3, chart_idx, graphx, widthx, heightx)\n",
       "        })\n",
       "    "
      ],
      "text/plain": [
       "<IPython.core.display.Javascript object>"
      ]
     },
     "execution_count": 6,
     "metadata": {},
     "output_type": "execute_result"
    }
   ],
   "source": [
    "nx2d3.embed_networkx(g, height=300, width=600)"
   ]
  },
  {
   "cell_type": "code",
   "execution_count": 7,
   "metadata": {
    "collapsed": false
   },
   "outputs": [
    {
     "name": "stdout",
     "output_type": "stream",
     "text": [
      "('Gene', 'ALPHABET', 'E') ('RNA', 'ALPHABET', 'E') {\n",
      "  \"relation\": \"transcribedTo\"\n",
      "}\n",
      "('RNA', 'ALPHABET', 'B') ('Protein', 'ALPHABET', 'B') {\n",
      "  \"relation\": \"translatedTo\"\n",
      "}\n",
      "('Protein', 'ALPHABET', 'A') ('Protein', 'ALPHABET', 'B') {\n",
      "  \"citation_type\": \"Pubmed\",\n",
      "  \"citation_reference\": \"123455\",\n",
      "  \"Evidence\": \"Evidence 1 w extra notes\",\n",
      "  \"citation_name\": \"That one article from last week\",\n",
      "  \"relation\": \"increases\"\n",
      "}\n",
      "('Protein', 'ALPHABET', 'D') ('Protein', 'ALPHABET', 'E') {\n",
      "  \"object\": {\n",
      "    \"modifier\": \"Translocation\",\n",
      "    \"effect\": {\n",
      "      \"fromLoc\": {\n",
      "        \"namespace\": \"GOCC\",\n",
      "        \"name\": \"intracellular\"\n",
      "      },\n",
      "      \"toLoc\": {\n",
      "        \"namespace\": \"GOCC\",\n",
      "        \"name\": \"cell surface\"\n",
      "      }\n",
      "    }\n",
      "  },\n",
      "  \"subject\": {\n",
      "    \"modifier\": \"Activity\",\n",
      "    \"effect\": {\n",
      "      \"MolecularActivity\": \"KinaseActivity\"\n",
      "    }\n",
      "  },\n",
      "  \"citation_type\": \"Pubmed\",\n",
      "  \"citation_reference\": \"123456\",\n",
      "  \"relation\": \"association\",\n",
      "  \"TESTAN1\": \"2\",\n",
      "  \"Evidence\": \"Evidence 3\",\n",
      "  \"citation_name\": \"That other article from last week\"\n",
      "}\n",
      "('RNA', 'ALPHABET', 'C') ('Protein', 'ALPHABET', 'C') {\n",
      "  \"relation\": \"translatedTo\"\n",
      "}\n",
      "('RNA', 'ALPHABET', 'D') ('Protein', 'ALPHABET', 'D') {\n",
      "  \"relation\": \"translatedTo\"\n",
      "}\n",
      "('Protein', 'ALPHABET', 'B') ('Protein', 'ALPHABET', 'D') {\n",
      "  \"relation\": \"directlyDecreases\",\n",
      "  \"citation_type\": \"Pubmed\",\n",
      "  \"TESTAN2\": \"3\",\n",
      "  \"citation_reference\": \"123455\",\n",
      "  \"Evidence\": \"Evidence 2\",\n",
      "  \"citation_name\": \"That one article from last week\"\n",
      "}\n",
      "('Protein', 'ALPHABET', 'B') ('Protein', 'ALPHABET', 'C') {\n",
      "  \"relation\": \"decreases\",\n",
      "  \"citation_type\": \"Pubmed\",\n",
      "  \"TESTAN2\": \"3\",\n",
      "  \"citation_reference\": \"123455\",\n",
      "  \"Evidence\": \"Evidence 2\",\n",
      "  \"citation_name\": \"That one article from last week\"\n",
      "}\n",
      "('Gene', 'ALPHABET', 'C') ('RNA', 'ALPHABET', 'C') {\n",
      "  \"relation\": \"transcribedTo\"\n",
      "}\n",
      "('Protein', 'ALPHABET', 'E') ('Protein', 'ALPHABET', 'D') {\n",
      "  \"object\": {\n",
      "    \"modifier\": \"Translocation\",\n",
      "    \"effect\": {\n",
      "      \"fromLoc\": {\n",
      "        \"namespace\": \"GOCC\",\n",
      "        \"name\": \"intracellular\"\n",
      "      },\n",
      "      \"toLoc\": {\n",
      "        \"namespace\": \"GOCC\",\n",
      "        \"name\": \"cell surface\"\n",
      "      }\n",
      "    }\n",
      "  },\n",
      "  \"subject\": {\n",
      "    \"modifier\": \"Activity\",\n",
      "    \"effect\": {\n",
      "      \"MolecularActivity\": \"KinaseActivity\"\n",
      "    }\n",
      "  },\n",
      "  \"citation_type\": \"Pubmed\",\n",
      "  \"citation_reference\": \"123456\",\n",
      "  \"relation\": \"association\",\n",
      "  \"TESTAN1\": \"2\",\n",
      "  \"Evidence\": \"Evidence 3\",\n",
      "  \"citation_name\": \"That other article from last week\"\n",
      "}\n",
      "('Gene', 'ALPHABET', 'D') ('RNA', 'ALPHABET', 'D') {\n",
      "  \"relation\": \"transcribedTo\"\n",
      "}\n",
      "('RNA', 'ALPHABET', 'E') ('Protein', 'ALPHABET', 'E') {\n",
      "  \"relation\": \"translatedTo\"\n",
      "}\n",
      "('Gene', 'ALPHABET', 'A') ('RNA', 'ALPHABET', 'A') {\n",
      "  \"relation\": \"transcribedTo\"\n",
      "}\n",
      "('Gene', 'ALPHABET', 'B') ('RNA', 'ALPHABET', 'B') {\n",
      "  \"relation\": \"transcribedTo\"\n",
      "}\n",
      "('RNA', 'ALPHABET', 'A') ('Protein', 'ALPHABET', 'A') {\n",
      "  \"relation\": \"translatedTo\"\n",
      "}\n"
     ]
    }
   ],
   "source": [
    "print_edges = True\n",
    "if print_edges:\n",
    "    for u,v,data in g.edges(data=True):\n",
    "        print(u, v, json.dumps(data, indent=2))"
   ]
  },
  {
   "cell_type": "code",
   "execution_count": 8,
   "metadata": {
    "collapsed": false
   },
   "outputs": [
    {
     "name": "stderr",
     "output_type": "stream",
     "text": [
      "INFO:httpstream:> GET http://localhost:7474/db/data/\n",
      "INFO:httpstream:< 200 OK [795]\n"
     ]
    },
    {
     "data": {
      "text/plain": [
       "[]"
      ]
     },
     "execution_count": 8,
     "metadata": {},
     "output_type": "execute_result"
    }
   ],
   "source": [
    "neo_path = os.environ['NEO_PATH']\n",
    "neo = py2neo.Graph(neo_path)\n",
    "neo.data('match (n) detach delete n')"
   ]
  },
  {
   "cell_type": "code",
   "execution_count": 9,
   "metadata": {
    "collapsed": false
   },
   "outputs": [],
   "source": [
    "g.to_neo4j(neo)"
   ]
  },
  {
   "cell_type": "code",
   "execution_count": 10,
   "metadata": {
    "collapsed": false
   },
   "outputs": [
    {
     "data": {
      "text/plain": [
       "[{'n': (`0`:Gene {name:\"0\",namespace:\"ALPHABET\",value:\"E\"})},\n",
       " {'n': (`13`:Protein {name:\"13\",namespace:\"ALPHABET\",value:\"C\"})},\n",
       " {'n': (`1`:RNA {name:\"1\",namespace:\"ALPHABET\",value:\"B\"})},\n",
       " {'n': (`2`:Protein {name:\"2\",namespace:\"ALPHABET\",value:\"A\"})},\n",
       " {'n': (`3`:Protein {name:\"3\",namespace:\"ALPHABET\",value:\"D\"})},\n",
       " {'n': (`4`:RNA {name:\"4\",namespace:\"ALPHABET\",value:\"C\"})},\n",
       " {'n': (`5`:RNA {name:\"5\",namespace:\"ALPHABET\",value:\"D\"})},\n",
       " {'n': (`6`:Protein {name:\"6\",namespace:\"ALPHABET\",value:\"B\"})},\n",
       " {'n': (`7`:Gene {name:\"7\",namespace:\"ALPHABET\",value:\"C\"})},\n",
       " {'n': (`8`:Protein {name:\"8\",namespace:\"ALPHABET\",value:\"E\"})},\n",
       " {'n': (`9`:Gene {name:\"9\",namespace:\"ALPHABET\",value:\"D\"})},\n",
       " {'n': (`10`:RNA {name:\"10\",namespace:\"ALPHABET\",value:\"E\"})},\n",
       " {'n': (`11`:Gene {name:\"11\",namespace:\"ALPHABET\",value:\"A\"})},\n",
       " {'n': (`12`:Gene {name:\"12\",namespace:\"ALPHABET\",value:\"B\"})},\n",
       " {'n': (`14`:RNA {name:\"14\",namespace:\"ALPHABET\",value:\"A\"})}]"
      ]
     },
     "execution_count": 10,
     "metadata": {},
     "output_type": "execute_result"
    }
   ],
   "source": [
    "neo.data('match (n) return n')"
   ]
  },
  {
   "cell_type": "code",
   "execution_count": 11,
   "metadata": {
    "collapsed": false
   },
   "outputs": [
    {
     "name": "stdout",
     "output_type": "stream",
     "text": [
      " n.namespace  n.value  k.relation         m.namespace  m.value \n",
      "---------------------------------------------------------------\n",
      " ALPHABET     E        transcribedTo      ALPHABET     E       \n",
      " ALPHABET     C        decreases          ALPHABET     B       \n",
      " ALPHABET     C        translatedTo       ALPHABET     C       \n",
      " ALPHABET     B        transcribedTo      ALPHABET     B       \n",
      " ALPHABET     B        translatedTo       ALPHABET     B       \n",
      " ALPHABET     A        translatedTo       ALPHABET     A       \n",
      " ALPHABET     A        increases          ALPHABET     B       \n",
      " ALPHABET     D        association        ALPHABET     E       \n",
      " ALPHABET     D        translatedTo       ALPHABET     D       \n",
      " ALPHABET     D        directlyDecreases  ALPHABET     B       \n",
      " ALPHABET     D        association        ALPHABET     E       \n",
      " ALPHABET     C        transcribedTo      ALPHABET     C       \n",
      " ALPHABET     C        translatedTo       ALPHABET     C       \n",
      " ALPHABET     D        transcribedTo      ALPHABET     D       \n",
      " ALPHABET     D        translatedTo       ALPHABET     D       \n",
      " ALPHABET     B        decreases          ALPHABET     C       \n",
      " ALPHABET     B        directlyDecreases  ALPHABET     D       \n",
      " ALPHABET     B        translatedTo       ALPHABET     B       \n",
      " ALPHABET     B        increases          ALPHABET     A       \n",
      " ALPHABET     C        transcribedTo      ALPHABET     C       \n",
      " ALPHABET     E        translatedTo       ALPHABET     E       \n",
      " ALPHABET     E        association        ALPHABET     D       \n",
      " ALPHABET     E        association        ALPHABET     D       \n",
      " ALPHABET     D        transcribedTo      ALPHABET     D       \n",
      " ALPHABET     E        translatedTo       ALPHABET     E       \n",
      " ALPHABET     E        transcribedTo      ALPHABET     E       \n",
      " ALPHABET     A        transcribedTo      ALPHABET     A       \n",
      " ALPHABET     B        transcribedTo      ALPHABET     B       \n",
      " ALPHABET     A        translatedTo       ALPHABET     A       \n",
      " ALPHABET     A        transcribedTo      ALPHABET     A       \n"
     ]
    }
   ],
   "source": [
    "r = neo.run('match (n)-[k]-(m) return n.namespace, n.value, k.relation, m.namespace, m.value')\n",
    "r.dump()"
   ]
  }
 ],
 "metadata": {
  "kernelspec": {
   "display_name": "Python 3",
   "language": "python",
   "name": "python3"
  },
  "language_info": {
   "codemirror_mode": {
    "name": "ipython",
    "version": 3
   },
   "file_extension": ".py",
   "mimetype": "text/x-python",
   "name": "python",
   "nbconvert_exporter": "python",
   "pygments_lexer": "ipython3",
   "version": "3.5.2"
  }
 },
 "nbformat": 4,
 "nbformat_minor": 1
}

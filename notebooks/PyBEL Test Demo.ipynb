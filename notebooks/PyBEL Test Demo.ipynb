{
 "cells": [
  {
   "cell_type": "code",
   "execution_count": 1,
   "metadata": {
    "collapsed": true
   },
   "outputs": [],
   "source": [
    "import pybel\n",
    "import os\n",
    "import logging\n",
    "import nx2d3\n",
    "import py2neo\n",
    "import json\n",
    "import time"
   ]
  },
  {
   "cell_type": "code",
   "execution_count": 2,
   "metadata": {
    "collapsed": true
   },
   "outputs": [],
   "source": [
    "logging.basicConfig(level=logging.INFO)\n",
    "logging.getLogger(\"requests\").setLevel(logging.WARNING)"
   ]
  },
  {
   "cell_type": "code",
   "execution_count": 3,
   "metadata": {
    "collapsed": false
   },
   "outputs": [
    {
     "data": {
      "text/plain": [
       "'Sat Oct  8 20:19:10 2016'"
      ]
     },
     "execution_count": 3,
     "metadata": {},
     "output_type": "execute_result"
    }
   ],
   "source": [
    "time.asctime()"
   ]
  },
  {
   "cell_type": "code",
   "execution_count": 4,
   "metadata": {
    "collapsed": true
   },
   "outputs": [],
   "source": [
    "base = os.environ['PYBEL_BASE']\n",
    "path = os.path.join(base, 'tests', 'bel', 'test_bel_1.bel')"
   ]
  },
  {
   "cell_type": "code",
   "execution_count": 5,
   "metadata": {
    "collapsed": false
   },
   "outputs": [
    {
     "name": "stderr",
     "output_type": "stream",
     "text": [
      "INFO:pybel.parser.utils:File length: 26. Document section until line 7, definition section until line 12\n",
      "INFO:pybel.graph:Finished parsing document section in 0.01 seconds\n",
      "INFO:root:Downloading http://resource.belframework.org/belframework/1.0/namespace/chebi-names.belns\n",
      "INFO:root:Downloading http://resource.belframework.org/belframework/1.0/annotation/mesh-cell-structure.belanno\n",
      "INFO:pybel.graph:Finished parsing definitions section in 1.80 seconds\n",
      "ERROR:pybel.graph:PyBEL0018 Nested statements not supported. Please explicitly specifiy. p(ALPHABET:A) -> (p(ALPHABET:B) -> p(ALPHABET:C))\n",
      "INFO:pybel.graph:Finished parsing statements section in 51.38 seconds\n"
     ]
    }
   ],
   "source": [
    "g = pybel.from_path(path)\n",
    "\n",
    "#neo_graph = Graph('')\n",
    "#g.to_neo4j(neo_graph)"
   ]
  },
  {
   "cell_type": "code",
   "execution_count": 6,
   "metadata": {
    "collapsed": false
   },
   "outputs": [
    {
     "data": {
      "text/plain": [
       "'Sat Oct  8 20:20:03 2016'"
      ]
     },
     "execution_count": 6,
     "metadata": {},
     "output_type": "execute_result"
    }
   ],
   "source": [
    "time.asctime()"
   ]
  },
  {
   "cell_type": "code",
   "execution_count": 7,
   "metadata": {
    "collapsed": false
   },
   "outputs": [
    {
     "data": {
      "application/javascript": [
       "var chart_idx='yurzvoaqgdjcteph', graphx={\"directed\": true, \"nodes\": [{\"id\": [\"RNA\", \"ALPHABET\", \"D\"], \"type\": \"RNA\", \"namespace\": \"ALPHABET\", \"name\": \"D\"}, {\"id\": [\"Gene\", \"ALPHABET\", \"E\"], \"type\": \"Gene\", \"namespace\": \"ALPHABET\", \"name\": \"E\"}, {\"id\": [\"Gene\", \"ALPHABET\", \"D\"], \"type\": \"Gene\", \"namespace\": \"ALPHABET\", \"name\": \"D\"}, {\"id\": [\"RNA\", \"ALPHABET\", \"C\"], \"type\": \"RNA\", \"namespace\": \"ALPHABET\", \"name\": \"C\"}, {\"id\": [\"Gene\", \"ALPHABET\", \"C\"], \"type\": \"Gene\", \"namespace\": \"ALPHABET\", \"name\": \"C\"}, {\"id\": [\"RNA\", \"ALPHABET\", \"B\"], \"type\": \"RNA\", \"namespace\": \"ALPHABET\", \"name\": \"B\"}, {\"id\": [\"Gene\", \"ALPHABET\", \"B\"], \"type\": \"Gene\", \"namespace\": \"ALPHABET\", \"name\": \"B\"}, {\"id\": [\"Protein\", \"ALPHABET\", \"E\"], \"type\": \"Protein\", \"namespace\": \"ALPHABET\", \"name\": \"E\"}, {\"id\": [\"Protein\", \"ALPHABET\", \"B\"], \"type\": \"Protein\", \"namespace\": \"ALPHABET\", \"name\": \"B\"}, {\"id\": [\"Gene\", \"ALPHABET\", \"A\"], \"type\": \"Gene\", \"namespace\": \"ALPHABET\", \"name\": \"A\"}, {\"id\": [\"RNA\", \"ALPHABET\", \"A\"], \"type\": \"RNA\", \"namespace\": \"ALPHABET\", \"name\": \"A\"}, {\"id\": [\"Protein\", \"ALPHABET\", \"D\"], \"type\": \"Protein\", \"namespace\": \"ALPHABET\", \"name\": \"D\"}, {\"id\": [\"RNA\", \"ALPHABET\", \"E\"], \"type\": \"RNA\", \"namespace\": \"ALPHABET\", \"name\": \"E\"}, {\"id\": [\"Protein\", \"ALPHABET\", \"A\"], \"type\": \"Protein\", \"namespace\": \"ALPHABET\", \"name\": \"A\"}, {\"id\": [\"Protein\", \"ALPHABET\", \"C\"], \"type\": \"Protein\", \"namespace\": \"ALPHABET\", \"name\": \"C\"}], \"multigraph\": true, \"links\": [{\"target\": 11, \"relation\": \"translatedTo\", \"source\": 0, \"key\": \"translatedTo\"}, {\"target\": 12, \"relation\": \"transcribedTo\", \"source\": 1, \"key\": \"transcribedTo\"}, {\"target\": 0, \"relation\": \"transcribedTo\", \"source\": 2, \"key\": \"transcribedTo\"}, {\"target\": 14, \"relation\": \"translatedTo\", \"source\": 3, \"key\": \"translatedTo\"}, {\"target\": 3, \"relation\": \"transcribedTo\", \"source\": 4, \"key\": \"transcribedTo\"}, {\"target\": 8, \"relation\": \"translatedTo\", \"source\": 5, \"key\": \"translatedTo\"}, {\"target\": 5, \"relation\": \"transcribedTo\", \"source\": 6, \"key\": \"transcribedTo\"}, {\"target\": 11, \"citation_name\": \"That one article from last week\", \"TESTAN2\": \"3\", \"citation_type\": \"Pubmed\", \"citation_reference\": \"123455\", \"key\": 0, \"relation\": \"directlyDecreases\", \"Evidence\": \"Evidence 2\", \"source\": 8}, {\"target\": 14, \"citation_name\": \"That one article from last week\", \"TESTAN2\": \"3\", \"citation_type\": \"Pubmed\", \"citation_reference\": \"123455\", \"key\": 0, \"relation\": \"decreases\", \"Evidence\": \"Evidence 2\", \"source\": 8}, {\"target\": 10, \"relation\": \"transcribedTo\", \"source\": 9, \"key\": \"transcribedTo\"}, {\"target\": 13, \"relation\": \"translatedTo\", \"source\": 10, \"key\": \"translatedTo\"}, {\"subject\": {\"modifier\": \"Activity\", \"effect\": {\"MolecularActivity\": \"KinaseActivity\"}}, \"source\": 11, \"target\": 7, \"citation_name\": \"That other article from last week\", \"citation_type\": \"Pubmed\", \"citation_reference\": \"123456\", \"TESTAN1\": \"2\", \"key\": 0, \"relation\": \"association\", \"object\": {\"modifier\": \"Translocation\", \"effect\": {\"toLoc\": {\"namespace\": \"GOCC\", \"name\": \"cell surface\"}, \"fromLoc\": {\"namespace\": \"GOCC\", \"name\": \"intracellular\"}}}, \"Evidence\": \"Evidence 3\"}, {\"target\": 7, \"relation\": \"translatedTo\", \"source\": 12, \"key\": \"translatedTo\"}, {\"target\": 8, \"citation_name\": \"That one article from last week\", \"citation_type\": \"Pubmed\", \"citation_reference\": \"123455\", \"key\": 0, \"relation\": \"increases\", \"Evidence\": \"Evidence 1 w extra notes\", \"source\": 13}], \"graph\": {}}, widthx=600, heightx=300;\n",
       "var process_nx = function(d3, chart_id, graph, width, height) {\n",
       "    var color = d3.scale.category20();\n",
       "\n",
       "    var force = d3.layout.force()\n",
       "        .charge(-200)\n",
       "        .linkDistance(40)\n",
       "        .size([width, height]);\n",
       "\n",
       "    var svg = d3.select('#' + chart_id).append(\"svg\")\n",
       "        .attr(\"width\", width)\n",
       "        .attr(\"height\", height);\n",
       "\n",
       "    force\n",
       "      .nodes(graph.nodes)\n",
       "      .links(graph.links)\n",
       "      .start();\n",
       "\n",
       "    var link = svg.selectAll(\".link\")\n",
       "        .data(graph.links)\n",
       "        .enter().append(\"line\")\n",
       "        .attr(\"class\", \"link\")\n",
       "        .attr(\"stroke\", \"#999\")\n",
       "        .attr(\"stroke-width\", 1.5);\n",
       "\n",
       "    var node = svg.selectAll(\".node\")\n",
       "        .data(graph.nodes)\n",
       "        .enter().append(\"g\")\n",
       "        .attr(\"class\", \"node\")\n",
       "        .call(force.drag);\n",
       "\n",
       "    node.append(\"circle\")\n",
       "        .attr(\"r\", 6)\n",
       "        .style(\"fill\", function(d) {\n",
       "            return color(d.color);\n",
       "        });\n",
       "\n",
       "    node.append(\"text\")\n",
       "        .attr(\"dx\", 12)\n",
       "        .attr(\"dy\", \".35em\")\n",
       "        .text(function(d) {\n",
       "            return d.id;\n",
       "        });\n",
       "\n",
       "    force.on(\"tick\", function() {\n",
       "        link.attr(\"x1\", function(d) { return d.source.x; })\n",
       "            .attr(\"y1\", function(d) { return d.source.y; })\n",
       "            .attr(\"x2\", function(d) { return d.target.x; })\n",
       "            .attr(\"y2\", function(d) { return d.target.y; });\n",
       "\n",
       "        node.attr(\"transform\", function(d) {\n",
       "            return \"translate(\" + d.x + \",\" + d.y + \")\";\n",
       "        });\n",
       "    });\n",
       "}\n",
       "\n",
       "        require.config({\n",
       "          paths: {\n",
       "              d3: '//cdnjs.cloudflare.com/ajax/libs/d3/3.4.8/d3.min'\n",
       "          }\n",
       "        });\n",
       "\n",
       "        element.append(\"<div id='\" + chart_idx + \"'></div>\");\n",
       "\n",
       "        require(['d3'], function(d3) {\n",
       "            return process_nx(d3, chart_idx, graphx, widthx, heightx)\n",
       "        })\n",
       "    "
      ],
      "text/plain": [
       "<IPython.core.display.Javascript object>"
      ]
     },
     "execution_count": 7,
     "metadata": {},
     "output_type": "execute_result"
    }
   ],
   "source": [
    "nx2d3.embed_networkx(g, height=300, width=600)"
   ]
  },
  {
   "cell_type": "code",
   "execution_count": 8,
   "metadata": {
    "collapsed": false
   },
   "outputs": [
    {
     "name": "stdout",
     "output_type": "stream",
     "text": [
      "('RNA', 'ALPHABET', 'D') ('Protein', 'ALPHABET', 'D') {\n",
      "  \"relation\": \"translatedTo\"\n",
      "}\n",
      "('Gene', 'ALPHABET', 'E') ('RNA', 'ALPHABET', 'E') {\n",
      "  \"relation\": \"transcribedTo\"\n",
      "}\n",
      "('Gene', 'ALPHABET', 'D') ('RNA', 'ALPHABET', 'D') {\n",
      "  \"relation\": \"transcribedTo\"\n",
      "}\n",
      "('RNA', 'ALPHABET', 'C') ('Protein', 'ALPHABET', 'C') {\n",
      "  \"relation\": \"translatedTo\"\n",
      "}\n",
      "('Gene', 'ALPHABET', 'C') ('RNA', 'ALPHABET', 'C') {\n",
      "  \"relation\": \"transcribedTo\"\n",
      "}\n",
      "('RNA', 'ALPHABET', 'B') ('Protein', 'ALPHABET', 'B') {\n",
      "  \"relation\": \"translatedTo\"\n",
      "}\n",
      "('Gene', 'ALPHABET', 'B') ('RNA', 'ALPHABET', 'B') {\n",
      "  \"relation\": \"transcribedTo\"\n",
      "}\n",
      "('Protein', 'ALPHABET', 'B') ('Protein', 'ALPHABET', 'D') {\n",
      "  \"citation_name\": \"That one article from last week\",\n",
      "  \"TESTAN2\": \"3\",\n",
      "  \"citation_type\": \"Pubmed\",\n",
      "  \"citation_reference\": \"123455\",\n",
      "  \"relation\": \"directlyDecreases\",\n",
      "  \"Evidence\": \"Evidence 2\"\n",
      "}\n",
      "('Protein', 'ALPHABET', 'B') ('Protein', 'ALPHABET', 'C') {\n",
      "  \"citation_name\": \"That one article from last week\",\n",
      "  \"TESTAN2\": \"3\",\n",
      "  \"citation_type\": \"Pubmed\",\n",
      "  \"citation_reference\": \"123455\",\n",
      "  \"relation\": \"decreases\",\n",
      "  \"Evidence\": \"Evidence 2\"\n",
      "}\n",
      "('Gene', 'ALPHABET', 'A') ('RNA', 'ALPHABET', 'A') {\n",
      "  \"relation\": \"transcribedTo\"\n",
      "}\n",
      "('RNA', 'ALPHABET', 'A') ('Protein', 'ALPHABET', 'A') {\n",
      "  \"relation\": \"translatedTo\"\n",
      "}\n",
      "('Protein', 'ALPHABET', 'D') ('Protein', 'ALPHABET', 'E') {\n",
      "  \"subject\": {\n",
      "    \"modifier\": \"Activity\",\n",
      "    \"effect\": {\n",
      "      \"MolecularActivity\": \"KinaseActivity\"\n",
      "    }\n",
      "  },\n",
      "  \"citation_name\": \"That other article from last week\",\n",
      "  \"citation_reference\": \"123456\",\n",
      "  \"TESTAN1\": \"2\",\n",
      "  \"relation\": \"association\",\n",
      "  \"object\": {\n",
      "    \"modifier\": \"Translocation\",\n",
      "    \"effect\": {\n",
      "      \"toLoc\": {\n",
      "        \"namespace\": \"GOCC\",\n",
      "        \"name\": \"cell surface\"\n",
      "      },\n",
      "      \"fromLoc\": {\n",
      "        \"namespace\": \"GOCC\",\n",
      "        \"name\": \"intracellular\"\n",
      "      }\n",
      "    }\n",
      "  },\n",
      "  \"citation_type\": \"Pubmed\",\n",
      "  \"Evidence\": \"Evidence 3\"\n",
      "}\n",
      "('RNA', 'ALPHABET', 'E') ('Protein', 'ALPHABET', 'E') {\n",
      "  \"relation\": \"translatedTo\"\n",
      "}\n",
      "('Protein', 'ALPHABET', 'A') ('Protein', 'ALPHABET', 'B') {\n",
      "  \"Evidence\": \"Evidence 1 w extra notes\",\n",
      "  \"citation_reference\": \"123455\",\n",
      "  \"relation\": \"increases\",\n",
      "  \"citation_name\": \"That one article from last week\",\n",
      "  \"citation_type\": \"Pubmed\"\n",
      "}\n"
     ]
    }
   ],
   "source": [
    "print_edges = True\n",
    "if print_edges:\n",
    "    for u,v,data in g.edges(data=True):\n",
    "        print(u, v, json.dumps(data, indent=2))"
   ]
  },
  {
   "cell_type": "code",
   "execution_count": 9,
   "metadata": {
    "collapsed": false
   },
   "outputs": [
    {
     "name": "stderr",
     "output_type": "stream",
     "text": [
      "INFO:httpstream:> GET http://localhost:7474/db/data/\n",
      "ERROR:httpstream:! SocketError: Connection refused\n"
     ]
    },
    {
     "ename": "SocketError",
     "evalue": "Connection refused",
     "output_type": "error",
     "traceback": [
      "\u001b[0;31m---------------------------------------------------------------------------\u001b[0m",
      "\u001b[0;31mKeyError\u001b[0m                                  Traceback (most recent call last)",
      "\u001b[0;32m/usr/local/lib/python3.5/site-packages/py2neo/database/__init__.py\u001b[0m in \u001b[0;36m__new__\u001b[0;34m(cls, *uris, **settings)\u001b[0m\n\u001b[1;32m    317\u001b[0m         \u001b[0;32mtry\u001b[0m\u001b[0;34m:\u001b[0m\u001b[0;34m\u001b[0m\u001b[0m\n\u001b[0;32m--> 318\u001b[0;31m             \u001b[0minst\u001b[0m \u001b[0;34m=\u001b[0m \u001b[0mcls\u001b[0m\u001b[0;34m.\u001b[0m\u001b[0m__instances\u001b[0m\u001b[0;34m[\u001b[0m\u001b[0mkey\u001b[0m\u001b[0;34m]\u001b[0m\u001b[0;34m\u001b[0m\u001b[0m\n\u001b[0m\u001b[1;32m    319\u001b[0m         \u001b[0;32mexcept\u001b[0m \u001b[0mKeyError\u001b[0m\u001b[0;34m:\u001b[0m\u001b[0;34m\u001b[0m\u001b[0m\n",
      "\u001b[0;31mKeyError\u001b[0m: (<class 'py2neo.database.Graph'>, <ServerAddress settings={'host': 'localhost', 'http_port': 7474}>, 'data')",
      "\nDuring handling of the above exception, another exception occurred:\n",
      "\u001b[0;31mConnectionRefusedError\u001b[0m                    Traceback (most recent call last)",
      "\u001b[0;32m/usr/local/lib/python3.5/site-packages/py2neo/packages/httpstream/http.py\u001b[0m in \u001b[0;36msubmit\u001b[0;34m(method, uri, body, headers)\u001b[0m\n\u001b[1;32m    321\u001b[0m         \u001b[0;32mtry\u001b[0m\u001b[0;34m:\u001b[0m\u001b[0;34m\u001b[0m\u001b[0m\n\u001b[0;32m--> 322\u001b[0;31m             \u001b[0mresponse\u001b[0m \u001b[0;34m=\u001b[0m \u001b[0msend\u001b[0m\u001b[0;34m(\u001b[0m\u001b[0;34m)\u001b[0m\u001b[0;34m\u001b[0m\u001b[0m\n\u001b[0m\u001b[1;32m    323\u001b[0m         \u001b[0;32mexcept\u001b[0m \u001b[0mBadStatusLine\u001b[0m \u001b[0;32mas\u001b[0m \u001b[0merr\u001b[0m\u001b[0;34m:\u001b[0m\u001b[0;34m\u001b[0m\u001b[0m\n",
      "\u001b[0;32m/usr/local/lib/python3.5/site-packages/py2neo/packages/httpstream/http.py\u001b[0m in \u001b[0;36msend\u001b[0;34m(reconnect)\u001b[0m\n\u001b[1;32m    316\u001b[0m             \u001b[0mlog\u001b[0m\u001b[0;34m.\u001b[0m\u001b[0mdebug\u001b[0m\u001b[0;34m(\u001b[0m\u001b[0;34m\"> %s: %s\"\u001b[0m\u001b[0;34m,\u001b[0m \u001b[0mkey\u001b[0m\u001b[0;34m,\u001b[0m \u001b[0mvalue\u001b[0m\u001b[0;34m)\u001b[0m\u001b[0;34m\u001b[0m\u001b[0m\n\u001b[0;32m--> 317\u001b[0;31m         \u001b[0mhttp\u001b[0m\u001b[0;34m.\u001b[0m\u001b[0mrequest\u001b[0m\u001b[0;34m(\u001b[0m\u001b[0mxstr\u001b[0m\u001b[0;34m(\u001b[0m\u001b[0mmethod\u001b[0m\u001b[0;34m)\u001b[0m\u001b[0;34m,\u001b[0m \u001b[0mxstr\u001b[0m\u001b[0;34m(\u001b[0m\u001b[0muri\u001b[0m\u001b[0;34m.\u001b[0m\u001b[0mabsolute_path_reference\u001b[0m\u001b[0;34m)\u001b[0m\u001b[0;34m,\u001b[0m \u001b[0mbody\u001b[0m\u001b[0;34m,\u001b[0m \u001b[0mheaders\u001b[0m\u001b[0;34m)\u001b[0m\u001b[0;34m\u001b[0m\u001b[0m\n\u001b[0m\u001b[1;32m    318\u001b[0m         \u001b[0;32mreturn\u001b[0m \u001b[0mhttp\u001b[0m\u001b[0;34m.\u001b[0m\u001b[0mgetresponse\u001b[0m\u001b[0;34m(\u001b[0m\u001b[0;34m**\u001b[0m\u001b[0mgetresponse_args\u001b[0m\u001b[0;34m)\u001b[0m\u001b[0;34m\u001b[0m\u001b[0m\n",
      "\u001b[0;32m/usr/local/Cellar/python3/3.5.2_2/Frameworks/Python.framework/Versions/3.5/lib/python3.5/http/client.py\u001b[0m in \u001b[0;36mrequest\u001b[0;34m(self, method, url, body, headers)\u001b[0m\n\u001b[1;32m   1105\u001b[0m         \u001b[0;34m\"\"\"Send a complete request to the server.\"\"\"\u001b[0m\u001b[0;34m\u001b[0m\u001b[0m\n\u001b[0;32m-> 1106\u001b[0;31m         \u001b[0mself\u001b[0m\u001b[0;34m.\u001b[0m\u001b[0m_send_request\u001b[0m\u001b[0;34m(\u001b[0m\u001b[0mmethod\u001b[0m\u001b[0;34m,\u001b[0m \u001b[0murl\u001b[0m\u001b[0;34m,\u001b[0m \u001b[0mbody\u001b[0m\u001b[0;34m,\u001b[0m \u001b[0mheaders\u001b[0m\u001b[0;34m)\u001b[0m\u001b[0;34m\u001b[0m\u001b[0m\n\u001b[0m\u001b[1;32m   1107\u001b[0m \u001b[0;34m\u001b[0m\u001b[0m\n",
      "\u001b[0;32m/usr/local/Cellar/python3/3.5.2_2/Frameworks/Python.framework/Versions/3.5/lib/python3.5/http/client.py\u001b[0m in \u001b[0;36m_send_request\u001b[0;34m(self, method, url, body, headers)\u001b[0m\n\u001b[1;32m   1150\u001b[0m             \u001b[0mbody\u001b[0m \u001b[0;34m=\u001b[0m \u001b[0m_encode\u001b[0m\u001b[0;34m(\u001b[0m\u001b[0mbody\u001b[0m\u001b[0;34m,\u001b[0m \u001b[0;34m'body'\u001b[0m\u001b[0;34m)\u001b[0m\u001b[0;34m\u001b[0m\u001b[0m\n\u001b[0;32m-> 1151\u001b[0;31m         \u001b[0mself\u001b[0m\u001b[0;34m.\u001b[0m\u001b[0mendheaders\u001b[0m\u001b[0;34m(\u001b[0m\u001b[0mbody\u001b[0m\u001b[0;34m)\u001b[0m\u001b[0;34m\u001b[0m\u001b[0m\n\u001b[0m\u001b[1;32m   1152\u001b[0m \u001b[0;34m\u001b[0m\u001b[0m\n",
      "\u001b[0;32m/usr/local/Cellar/python3/3.5.2_2/Frameworks/Python.framework/Versions/3.5/lib/python3.5/http/client.py\u001b[0m in \u001b[0;36mendheaders\u001b[0;34m(self, message_body)\u001b[0m\n\u001b[1;32m   1101\u001b[0m             \u001b[0;32mraise\u001b[0m \u001b[0mCannotSendHeader\u001b[0m\u001b[0;34m(\u001b[0m\u001b[0;34m)\u001b[0m\u001b[0;34m\u001b[0m\u001b[0m\n\u001b[0;32m-> 1102\u001b[0;31m         \u001b[0mself\u001b[0m\u001b[0;34m.\u001b[0m\u001b[0m_send_output\u001b[0m\u001b[0;34m(\u001b[0m\u001b[0mmessage_body\u001b[0m\u001b[0;34m)\u001b[0m\u001b[0;34m\u001b[0m\u001b[0m\n\u001b[0m\u001b[1;32m   1103\u001b[0m \u001b[0;34m\u001b[0m\u001b[0m\n",
      "\u001b[0;32m/usr/local/Cellar/python3/3.5.2_2/Frameworks/Python.framework/Versions/3.5/lib/python3.5/http/client.py\u001b[0m in \u001b[0;36m_send_output\u001b[0;34m(self, message_body)\u001b[0m\n\u001b[1;32m    933\u001b[0m \u001b[0;34m\u001b[0m\u001b[0m\n\u001b[0;32m--> 934\u001b[0;31m         \u001b[0mself\u001b[0m\u001b[0;34m.\u001b[0m\u001b[0msend\u001b[0m\u001b[0;34m(\u001b[0m\u001b[0mmsg\u001b[0m\u001b[0;34m)\u001b[0m\u001b[0;34m\u001b[0m\u001b[0m\n\u001b[0m\u001b[1;32m    935\u001b[0m         \u001b[0;32mif\u001b[0m \u001b[0mmessage_body\u001b[0m \u001b[0;32mis\u001b[0m \u001b[0;32mnot\u001b[0m \u001b[0;32mNone\u001b[0m\u001b[0;34m:\u001b[0m\u001b[0;34m\u001b[0m\u001b[0m\n",
      "\u001b[0;32m/usr/local/Cellar/python3/3.5.2_2/Frameworks/Python.framework/Versions/3.5/lib/python3.5/http/client.py\u001b[0m in \u001b[0;36msend\u001b[0;34m(self, data)\u001b[0m\n\u001b[1;32m    876\u001b[0m             \u001b[0;32mif\u001b[0m \u001b[0mself\u001b[0m\u001b[0;34m.\u001b[0m\u001b[0mauto_open\u001b[0m\u001b[0;34m:\u001b[0m\u001b[0;34m\u001b[0m\u001b[0m\n\u001b[0;32m--> 877\u001b[0;31m                 \u001b[0mself\u001b[0m\u001b[0;34m.\u001b[0m\u001b[0mconnect\u001b[0m\u001b[0;34m(\u001b[0m\u001b[0;34m)\u001b[0m\u001b[0;34m\u001b[0m\u001b[0m\n\u001b[0m\u001b[1;32m    878\u001b[0m             \u001b[0;32melse\u001b[0m\u001b[0;34m:\u001b[0m\u001b[0;34m\u001b[0m\u001b[0m\n",
      "\u001b[0;32m/usr/local/lib/python3.5/site-packages/py2neo/packages/httpstream/http.py\u001b[0m in \u001b[0;36mconnect\u001b[0;34m(self)\u001b[0m\n\u001b[1;32m     79\u001b[0m                                              \u001b[0msocket_timeout\u001b[0m\u001b[0;34m,\u001b[0m\u001b[0;34m\u001b[0m\u001b[0m\n\u001b[0;32m---> 80\u001b[0;31m                                              self.source_address)\n\u001b[0m\u001b[1;32m     81\u001b[0m         \u001b[0mself\u001b[0m\u001b[0;34m.\u001b[0m\u001b[0msock\u001b[0m\u001b[0;34m.\u001b[0m\u001b[0msetsockopt\u001b[0m\u001b[0;34m(\u001b[0m\u001b[0mIPPROTO_TCP\u001b[0m\u001b[0;34m,\u001b[0m \u001b[0mTCP_NODELAY\u001b[0m\u001b[0;34m,\u001b[0m \u001b[0;36m1\u001b[0m\u001b[0;34m)\u001b[0m\u001b[0;34m\u001b[0m\u001b[0m\n",
      "\u001b[0;32m/usr/local/Cellar/python3/3.5.2_2/Frameworks/Python.framework/Versions/3.5/lib/python3.5/socket.py\u001b[0m in \u001b[0;36mcreate_connection\u001b[0;34m(address, timeout, source_address)\u001b[0m\n\u001b[1;32m    710\u001b[0m     \u001b[0;32mif\u001b[0m \u001b[0merr\u001b[0m \u001b[0;32mis\u001b[0m \u001b[0;32mnot\u001b[0m \u001b[0;32mNone\u001b[0m\u001b[0;34m:\u001b[0m\u001b[0;34m\u001b[0m\u001b[0m\n\u001b[0;32m--> 711\u001b[0;31m         \u001b[0;32mraise\u001b[0m \u001b[0merr\u001b[0m\u001b[0;34m\u001b[0m\u001b[0m\n\u001b[0m\u001b[1;32m    712\u001b[0m     \u001b[0;32melse\u001b[0m\u001b[0;34m:\u001b[0m\u001b[0;34m\u001b[0m\u001b[0m\n",
      "\u001b[0;32m/usr/local/Cellar/python3/3.5.2_2/Frameworks/Python.framework/Versions/3.5/lib/python3.5/socket.py\u001b[0m in \u001b[0;36mcreate_connection\u001b[0;34m(address, timeout, source_address)\u001b[0m\n\u001b[1;32m    701\u001b[0m                 \u001b[0msock\u001b[0m\u001b[0;34m.\u001b[0m\u001b[0mbind\u001b[0m\u001b[0;34m(\u001b[0m\u001b[0msource_address\u001b[0m\u001b[0;34m)\u001b[0m\u001b[0;34m\u001b[0m\u001b[0m\n\u001b[0;32m--> 702\u001b[0;31m             \u001b[0msock\u001b[0m\u001b[0;34m.\u001b[0m\u001b[0mconnect\u001b[0m\u001b[0;34m(\u001b[0m\u001b[0msa\u001b[0m\u001b[0;34m)\u001b[0m\u001b[0;34m\u001b[0m\u001b[0m\n\u001b[0m\u001b[1;32m    703\u001b[0m             \u001b[0;32mreturn\u001b[0m \u001b[0msock\u001b[0m\u001b[0;34m\u001b[0m\u001b[0m\n",
      "\u001b[0;31mConnectionRefusedError\u001b[0m: [Errno 61] Connection refused",
      "\nDuring handling of the above exception, another exception occurred:\n",
      "\u001b[0;31mSocketError\u001b[0m                               Traceback (most recent call last)",
      "\u001b[0;32m<ipython-input-9-acb1ef2275e8>\u001b[0m in \u001b[0;36m<module>\u001b[0;34m()\u001b[0m\n\u001b[1;32m      1\u001b[0m \u001b[0mneo_path\u001b[0m \u001b[0;34m=\u001b[0m \u001b[0mos\u001b[0m\u001b[0;34m.\u001b[0m\u001b[0menviron\u001b[0m\u001b[0;34m[\u001b[0m\u001b[0;34m'NEO_PATH'\u001b[0m\u001b[0;34m]\u001b[0m\u001b[0;34m\u001b[0m\u001b[0m\n\u001b[0;32m----> 2\u001b[0;31m \u001b[0mneo\u001b[0m \u001b[0;34m=\u001b[0m \u001b[0mpy2neo\u001b[0m\u001b[0;34m.\u001b[0m\u001b[0mGraph\u001b[0m\u001b[0;34m(\u001b[0m\u001b[0mneo_path\u001b[0m\u001b[0;34m)\u001b[0m\u001b[0;34m\u001b[0m\u001b[0m\n\u001b[0m\u001b[1;32m      3\u001b[0m \u001b[0mneo\u001b[0m\u001b[0;34m.\u001b[0m\u001b[0mdata\u001b[0m\u001b[0;34m(\u001b[0m\u001b[0;34m'match (n) detach delete n'\u001b[0m\u001b[0;34m)\u001b[0m\u001b[0;34m\u001b[0m\u001b[0m\n",
      "\u001b[0;32m/usr/local/lib/python3.5/site-packages/py2neo/database/__init__.py\u001b[0m in \u001b[0;36m__new__\u001b[0;34m(cls, *uris, **settings)\u001b[0m\n\u001b[1;32m    325\u001b[0m             \u001b[0muse_bolt\u001b[0m \u001b[0;34m=\u001b[0m \u001b[0maddress\u001b[0m\u001b[0;34m.\u001b[0m\u001b[0mbolt\u001b[0m\u001b[0;34m\u001b[0m\u001b[0m\n\u001b[1;32m    326\u001b[0m             \u001b[0;32mif\u001b[0m \u001b[0muse_bolt\u001b[0m \u001b[0;32mis\u001b[0m \u001b[0;32mNone\u001b[0m\u001b[0;34m:\u001b[0m\u001b[0;34m\u001b[0m\u001b[0m\n\u001b[0;32m--> 327\u001b[0;31m                 \u001b[0muse_bolt\u001b[0m \u001b[0;34m=\u001b[0m \u001b[0mversion_tuple\u001b[0m\u001b[0;34m(\u001b[0m\u001b[0minst\u001b[0m\u001b[0;34m.\u001b[0m\u001b[0m__remote__\u001b[0m\u001b[0;34m.\u001b[0m\u001b[0mget\u001b[0m\u001b[0;34m(\u001b[0m\u001b[0;34m)\u001b[0m\u001b[0;34m.\u001b[0m\u001b[0mcontent\u001b[0m\u001b[0;34m[\u001b[0m\u001b[0;34m\"neo4j_version\"\u001b[0m\u001b[0;34m]\u001b[0m\u001b[0;34m)\u001b[0m \u001b[0;34m>=\u001b[0m \u001b[0;34m(\u001b[0m\u001b[0;36m3\u001b[0m\u001b[0;34m,\u001b[0m\u001b[0;34m)\u001b[0m\u001b[0;34m\u001b[0m\u001b[0m\n\u001b[0m\u001b[1;32m    328\u001b[0m             \u001b[0;32mif\u001b[0m \u001b[0muse_bolt\u001b[0m\u001b[0;34m:\u001b[0m\u001b[0;34m\u001b[0m\u001b[0m\n\u001b[1;32m    329\u001b[0m                 \u001b[0mauth\u001b[0m \u001b[0;34m=\u001b[0m \u001b[0mget_auth\u001b[0m\u001b[0;34m(\u001b[0m\u001b[0maddress\u001b[0m\u001b[0;34m)\u001b[0m\u001b[0;34m\u001b[0m\u001b[0m\n",
      "\u001b[0;32m/usr/local/lib/python3.5/site-packages/py2neo/database/http.py\u001b[0m in \u001b[0;36mget\u001b[0;34m(self, headers, redirect_limit, **kwargs)\u001b[0m\n\u001b[1;32m    152\u001b[0m         \u001b[0mkwargs\u001b[0m\u001b[0;34m.\u001b[0m\u001b[0mupdate\u001b[0m\u001b[0;34m(\u001b[0m\u001b[0mcache\u001b[0m\u001b[0;34m=\u001b[0m\u001b[0;32mTrue\u001b[0m\u001b[0;34m)\u001b[0m\u001b[0;34m\u001b[0m\u001b[0m\n\u001b[1;32m    153\u001b[0m         \u001b[0;32mtry\u001b[0m\u001b[0;34m:\u001b[0m\u001b[0;34m\u001b[0m\u001b[0m\n\u001b[0;32m--> 154\u001b[0;31m             \u001b[0mresponse\u001b[0m \u001b[0;34m=\u001b[0m \u001b[0mself\u001b[0m\u001b[0;34m.\u001b[0m\u001b[0m__base\u001b[0m\u001b[0;34m.\u001b[0m\u001b[0mget\u001b[0m\u001b[0;34m(\u001b[0m\u001b[0mheaders\u001b[0m\u001b[0;34m=\u001b[0m\u001b[0mheaders\u001b[0m\u001b[0;34m,\u001b[0m \u001b[0mredirect_limit\u001b[0m\u001b[0;34m=\u001b[0m\u001b[0mredirect_limit\u001b[0m\u001b[0;34m,\u001b[0m \u001b[0;34m**\u001b[0m\u001b[0mkwargs\u001b[0m\u001b[0;34m)\u001b[0m\u001b[0;34m\u001b[0m\u001b[0m\n\u001b[0m\u001b[1;32m    155\u001b[0m         \u001b[0;32mexcept\u001b[0m \u001b[0;34m(\u001b[0m\u001b[0mClientError\u001b[0m\u001b[0;34m,\u001b[0m \u001b[0mServerError\u001b[0m\u001b[0;34m)\u001b[0m \u001b[0;32mas\u001b[0m \u001b[0merror\u001b[0m\u001b[0;34m:\u001b[0m\u001b[0;34m\u001b[0m\u001b[0m\n\u001b[1;32m    156\u001b[0m             \u001b[0;32mif\u001b[0m \u001b[0merror\u001b[0m\u001b[0;34m.\u001b[0m\u001b[0mstatus_code\u001b[0m \u001b[0;34m==\u001b[0m \u001b[0mUNAUTHORIZED\u001b[0m\u001b[0;34m:\u001b[0m\u001b[0;34m\u001b[0m\u001b[0m\n",
      "\u001b[0;32m/usr/local/lib/python3.5/site-packages/py2neo/packages/httpstream/http.py\u001b[0m in \u001b[0;36mget\u001b[0;34m(self, if_modified_since, headers, redirect_limit, **kwargs)\u001b[0m\n\u001b[1;32m    964\u001b[0m             \u001b[0mobject\u001b[0m \u001b[0;32mfrom\u001b[0m \u001b[0mwhich\u001b[0m \u001b[0mcontent\u001b[0m \u001b[0mcan\u001b[0m \u001b[0mbe\u001b[0m \u001b[0mread\u001b[0m\u001b[0;34m\u001b[0m\u001b[0m\n\u001b[1;32m    965\u001b[0m         \"\"\"\n\u001b[0;32m--> 966\u001b[0;31m         \u001b[0;32mreturn\u001b[0m \u001b[0mself\u001b[0m\u001b[0;34m.\u001b[0m\u001b[0m__get_or_head\u001b[0m\u001b[0;34m(\u001b[0m\u001b[0;34m\"GET\"\u001b[0m\u001b[0;34m,\u001b[0m \u001b[0mif_modified_since\u001b[0m\u001b[0;34m,\u001b[0m \u001b[0mheaders\u001b[0m\u001b[0;34m,\u001b[0m \u001b[0mredirect_limit\u001b[0m\u001b[0;34m,\u001b[0m \u001b[0;34m**\u001b[0m\u001b[0mkwargs\u001b[0m\u001b[0;34m)\u001b[0m\u001b[0;34m\u001b[0m\u001b[0m\n\u001b[0m\u001b[1;32m    967\u001b[0m \u001b[0;34m\u001b[0m\u001b[0m\n\u001b[1;32m    968\u001b[0m     \u001b[0;32mdef\u001b[0m \u001b[0mput\u001b[0m\u001b[0;34m(\u001b[0m\u001b[0mself\u001b[0m\u001b[0;34m,\u001b[0m \u001b[0mbody\u001b[0m\u001b[0;34m=\u001b[0m\u001b[0;32mNone\u001b[0m\u001b[0;34m,\u001b[0m \u001b[0mheaders\u001b[0m\u001b[0;34m=\u001b[0m\u001b[0;32mNone\u001b[0m\u001b[0;34m,\u001b[0m \u001b[0;34m**\u001b[0m\u001b[0mkwargs\u001b[0m\u001b[0;34m)\u001b[0m\u001b[0;34m:\u001b[0m\u001b[0;34m\u001b[0m\u001b[0m\n",
      "\u001b[0;32m/usr/local/lib/python3.5/site-packages/py2neo/packages/httpstream/http.py\u001b[0m in \u001b[0;36m__get_or_head\u001b[0;34m(self, method, if_modified_since, headers, redirect_limit, **kwargs)\u001b[0m\n\u001b[1;32m    941\u001b[0m             \u001b[0mheaders\u001b[0m\u001b[0;34m[\u001b[0m\u001b[0;34m\"If-Modified-Since\"\u001b[0m\u001b[0;34m]\u001b[0m \u001b[0;34m=\u001b[0m \u001b[0mformatdate\u001b[0m\u001b[0;34m(\u001b[0m\u001b[0mdatetime_to_timestamp\u001b[0m\u001b[0;34m(\u001b[0m\u001b[0mif_modified_since\u001b[0m\u001b[0;34m)\u001b[0m\u001b[0;34m,\u001b[0m \u001b[0musegmt\u001b[0m\u001b[0;34m=\u001b[0m\u001b[0;32mTrue\u001b[0m\u001b[0;34m)\u001b[0m\u001b[0;34m\u001b[0m\u001b[0m\n\u001b[1;32m    942\u001b[0m         \u001b[0mrq\u001b[0m \u001b[0;34m=\u001b[0m \u001b[0mRequest\u001b[0m\u001b[0;34m(\u001b[0m\u001b[0mmethod\u001b[0m\u001b[0;34m,\u001b[0m \u001b[0mself\u001b[0m\u001b[0;34m.\u001b[0m\u001b[0muri\u001b[0m\u001b[0;34m,\u001b[0m \u001b[0;32mNone\u001b[0m\u001b[0;34m,\u001b[0m \u001b[0mheaders\u001b[0m\u001b[0;34m)\u001b[0m\u001b[0;34m\u001b[0m\u001b[0m\n\u001b[0;32m--> 943\u001b[0;31m         \u001b[0;32mreturn\u001b[0m \u001b[0mrq\u001b[0m\u001b[0;34m.\u001b[0m\u001b[0msubmit\u001b[0m\u001b[0;34m(\u001b[0m\u001b[0mredirect_limit\u001b[0m\u001b[0;34m=\u001b[0m\u001b[0mredirect_limit\u001b[0m\u001b[0;34m,\u001b[0m \u001b[0;34m**\u001b[0m\u001b[0mkwargs\u001b[0m\u001b[0;34m)\u001b[0m\u001b[0;34m\u001b[0m\u001b[0m\n\u001b[0m\u001b[1;32m    944\u001b[0m \u001b[0;34m\u001b[0m\u001b[0m\n\u001b[1;32m    945\u001b[0m     \u001b[0;32mdef\u001b[0m \u001b[0mhead\u001b[0m\u001b[0;34m(\u001b[0m\u001b[0mself\u001b[0m\u001b[0;34m,\u001b[0m \u001b[0mif_modified_since\u001b[0m\u001b[0;34m=\u001b[0m\u001b[0;32mNone\u001b[0m\u001b[0;34m,\u001b[0m \u001b[0mheaders\u001b[0m\u001b[0;34m=\u001b[0m\u001b[0;32mNone\u001b[0m\u001b[0;34m,\u001b[0m \u001b[0mredirect_limit\u001b[0m\u001b[0;34m=\u001b[0m\u001b[0;36m5\u001b[0m\u001b[0;34m,\u001b[0m \u001b[0;34m**\u001b[0m\u001b[0mkwargs\u001b[0m\u001b[0;34m)\u001b[0m\u001b[0;34m:\u001b[0m\u001b[0;34m\u001b[0m\u001b[0m\n",
      "\u001b[0;32m/usr/local/lib/python3.5/site-packages/py2neo/packages/httpstream/http.py\u001b[0m in \u001b[0;36msubmit\u001b[0;34m(self, redirect_limit, **response_kwargs)\u001b[0m\n\u001b[1;32m    431\u001b[0m         \u001b[0muri\u001b[0m \u001b[0;34m=\u001b[0m \u001b[0mself\u001b[0m\u001b[0;34m.\u001b[0m\u001b[0muri\u001b[0m\u001b[0;34m\u001b[0m\u001b[0m\n\u001b[1;32m    432\u001b[0m         \u001b[0;32mwhile\u001b[0m \u001b[0;32mTrue\u001b[0m\u001b[0;34m:\u001b[0m\u001b[0;34m\u001b[0m\u001b[0m\n\u001b[0;32m--> 433\u001b[0;31m             \u001b[0mhttp\u001b[0m\u001b[0;34m,\u001b[0m \u001b[0mrs\u001b[0m \u001b[0;34m=\u001b[0m \u001b[0msubmit\u001b[0m\u001b[0;34m(\u001b[0m\u001b[0mself\u001b[0m\u001b[0;34m.\u001b[0m\u001b[0mmethod\u001b[0m\u001b[0;34m,\u001b[0m \u001b[0muri\u001b[0m\u001b[0;34m,\u001b[0m \u001b[0mself\u001b[0m\u001b[0;34m.\u001b[0m\u001b[0mbody\u001b[0m\u001b[0;34m,\u001b[0m \u001b[0mself\u001b[0m\u001b[0;34m.\u001b[0m\u001b[0mheaders\u001b[0m\u001b[0;34m)\u001b[0m\u001b[0;34m\u001b[0m\u001b[0m\n\u001b[0m\u001b[1;32m    434\u001b[0m             \u001b[0mstatus_class\u001b[0m \u001b[0;34m=\u001b[0m \u001b[0mrs\u001b[0m\u001b[0;34m.\u001b[0m\u001b[0mstatus\u001b[0m \u001b[0;34m//\u001b[0m \u001b[0;36m100\u001b[0m\u001b[0;34m\u001b[0m\u001b[0m\n\u001b[1;32m    435\u001b[0m             \u001b[0;32mif\u001b[0m \u001b[0mstatus_class\u001b[0m \u001b[0;34m==\u001b[0m \u001b[0;36m3\u001b[0m\u001b[0;34m:\u001b[0m\u001b[0;34m\u001b[0m\u001b[0m\n",
      "\u001b[0;32m/usr/local/lib/python3.5/site-packages/py2neo/packages/httpstream/http.py\u001b[0m in \u001b[0;36msubmit\u001b[0;34m(method, uri, body, headers)\u001b[0m\n\u001b[1;32m    360\u001b[0m                                       host_port=uri.host_port)\n\u001b[1;32m    361\u001b[0m         \u001b[0;32melse\u001b[0m\u001b[0;34m:\u001b[0m\u001b[0;34m\u001b[0m\u001b[0m\n\u001b[0;32m--> 362\u001b[0;31m             \u001b[0;32mraise\u001b[0m \u001b[0mSocketError\u001b[0m\u001b[0;34m(\u001b[0m\u001b[0mcode\u001b[0m\u001b[0;34m,\u001b[0m \u001b[0mdescription\u001b[0m\u001b[0;34m,\u001b[0m \u001b[0mhost_port\u001b[0m\u001b[0;34m=\u001b[0m\u001b[0muri\u001b[0m\u001b[0;34m.\u001b[0m\u001b[0mhost_port\u001b[0m\u001b[0;34m)\u001b[0m\u001b[0;34m\u001b[0m\u001b[0m\n\u001b[0m\u001b[1;32m    363\u001b[0m     \u001b[0;32melse\u001b[0m\u001b[0;34m:\u001b[0m\u001b[0;34m\u001b[0m\u001b[0m\n\u001b[1;32m    364\u001b[0m         \u001b[0;32mreturn\u001b[0m \u001b[0mhttp\u001b[0m\u001b[0;34m,\u001b[0m \u001b[0mresponse\u001b[0m\u001b[0;34m\u001b[0m\u001b[0m\n",
      "\u001b[0;31mSocketError\u001b[0m: Connection refused"
     ]
    }
   ],
   "source": [
    "neo_path = os.environ['NEO_PATH']\n",
    "neo = py2neo.Graph(neo_path)\n",
    "neo.data('match (n) detach delete n')"
   ]
  },
  {
   "cell_type": "code",
   "execution_count": null,
   "metadata": {
    "collapsed": false
   },
   "outputs": [],
   "source": [
    "g.to_neo4j(neo)"
   ]
  },
  {
   "cell_type": "code",
   "execution_count": null,
   "metadata": {
    "collapsed": false
   },
   "outputs": [],
   "source": [
    "neo.data('match (n) return n')"
   ]
  },
  {
   "cell_type": "code",
   "execution_count": null,
   "metadata": {
    "collapsed": false
   },
   "outputs": [],
   "source": [
    "r = neo.run('match (n)-[k]-(m) return n.namespace, n.value, k.relation, m.namespace, m.value')\n",
    "r.dump()"
   ]
  }
 ],
 "metadata": {
  "kernelspec": {
   "display_name": "Python 3",
   "language": "python",
   "name": "python3"
  },
  "language_info": {
   "codemirror_mode": {
    "name": "ipython",
    "version": 3
   },
   "file_extension": ".py",
   "mimetype": "text/x-python",
   "name": "python",
   "nbconvert_exporter": "python",
   "pygments_lexer": "ipython3",
   "version": "3.5.2"
  }
 },
 "nbformat": 4,
 "nbformat_minor": 1
}

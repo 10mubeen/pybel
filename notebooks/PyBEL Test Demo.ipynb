{
 "cells": [
  {
   "cell_type": "code",
   "execution_count": 1,
   "metadata": {
    "collapsed": true
   },
   "outputs": [],
   "source": [
    "import pybel\n",
    "import os\n",
    "import logging\n",
    "import nx2d3\n",
    "import py2neo\n",
    "import json"
   ]
  },
  {
   "cell_type": "code",
   "execution_count": 2,
   "metadata": {
    "collapsed": true
   },
   "outputs": [],
   "source": [
    "base = os.environ['PYBEL_BASE']\n",
    "path = os.path.join(base, 'tests', 'bel', 'test_bel_1.bel')"
   ]
  },
  {
   "cell_type": "code",
   "execution_count": 3,
   "metadata": {
    "collapsed": false
   },
   "outputs": [],
   "source": [
    "g = pybel.from_bel(path)"
   ]
  },
  {
   "cell_type": "code",
   "execution_count": 4,
   "metadata": {
    "collapsed": false
   },
   "outputs": [
    {
     "data": {
      "application/javascript": [
       "var chart_idx='vehrzjyqodcfukgp', graphx={\"nodes\": [{\"type\": \"RNA\", \"namespace\": \"ALPHABET\", \"id\": [\"RNA\", \"ALPHABET\", \"D\"], \"value\": \"D\"}, {\"type\": \"Protein\", \"namespace\": \"ALPHABET\", \"id\": [\"Protein\", \"ALPHABET\", \"D\"], \"value\": \"D\"}, {\"type\": \"Protein\", \"namespace\": \"ALPHABET\", \"id\": [\"Protein\", \"ALPHABET\", \"C\"], \"value\": \"C\"}, {\"type\": \"RNA\", \"namespace\": \"ALPHABET\", \"id\": [\"RNA\", \"ALPHABET\", \"C\"], \"value\": \"C\"}, {\"type\": \"Protein\", \"namespace\": \"ALPHABET\", \"id\": [\"Protein\", \"ALPHABET\", \"A\"], \"value\": \"A\"}, {\"type\": \"Gene\", \"namespace\": \"ALPHABET\", \"id\": [\"Gene\", \"ALPHABET\", \"E\"], \"value\": \"E\"}, {\"type\": \"Gene\", \"namespace\": \"ALPHABET\", \"id\": [\"Gene\", \"ALPHABET\", \"C\"], \"value\": \"C\"}, {\"type\": \"Gene\", \"namespace\": \"ALPHABET\", \"id\": [\"Gene\", \"ALPHABET\", \"A\"], \"value\": \"A\"}, {\"type\": \"Protein\", \"namespace\": \"ALPHABET\", \"id\": [\"Protein\", \"ALPHABET\", \"B\"], \"value\": \"B\"}, {\"type\": \"RNA\", \"namespace\": \"ALPHABET\", \"id\": [\"RNA\", \"ALPHABET\", \"B\"], \"value\": \"B\"}, {\"type\": \"RNA\", \"namespace\": \"ALPHABET\", \"id\": [\"RNA\", \"ALPHABET\", \"E\"], \"value\": \"E\"}, {\"type\": \"Protein\", \"namespace\": \"ALPHABET\", \"id\": [\"Protein\", \"ALPHABET\", \"E\"], \"value\": \"E\"}, {\"type\": \"Gene\", \"namespace\": \"ALPHABET\", \"id\": [\"Gene\", \"ALPHABET\", \"D\"], \"value\": \"D\"}, {\"type\": \"Gene\", \"namespace\": \"ALPHABET\", \"id\": [\"Gene\", \"ALPHABET\", \"B\"], \"value\": \"B\"}, {\"type\": \"RNA\", \"namespace\": \"ALPHABET\", \"id\": [\"RNA\", \"ALPHABET\", \"A\"], \"value\": \"A\"}], \"multigraph\": true, \"links\": [{\"target\": 1, \"source\": 0, \"relation\": \"translatedTo\", \"key\": \"translatedTo\"}, {\"target\": 11, \"source\": 1, \"relation\": \"association\", \"key\": 0}, {\"target\": 2, \"source\": 3, \"relation\": \"translatedTo\", \"key\": \"translatedTo\"}, {\"target\": 8, \"source\": 4, \"relation\": \"increases\", \"key\": 0}, {\"target\": 8, \"source\": 4, \"relation\": \"increases\", \"key\": 1}, {\"target\": 10, \"source\": 5, \"relation\": \"transcribedTo\", \"key\": \"transcribedTo\"}, {\"target\": 3, \"source\": 6, \"relation\": \"transcribedTo\", \"key\": \"transcribedTo\"}, {\"target\": 14, \"source\": 7, \"relation\": \"transcribedTo\", \"key\": \"transcribedTo\"}, {\"target\": 2, \"source\": 8, \"relation\": \"decreases\", \"key\": 0}, {\"target\": 1, \"source\": 8, \"relation\": \"directlyDecreases\", \"key\": 0}, {\"target\": 8, \"source\": 9, \"relation\": \"translatedTo\", \"key\": \"translatedTo\"}, {\"target\": 11, \"source\": 10, \"relation\": \"translatedTo\", \"key\": \"translatedTo\"}, {\"target\": 0, \"source\": 12, \"relation\": \"transcribedTo\", \"key\": \"transcribedTo\"}, {\"target\": 9, \"source\": 13, \"relation\": \"transcribedTo\", \"key\": \"transcribedTo\"}, {\"target\": 4, \"source\": 14, \"relation\": \"translatedTo\", \"key\": \"translatedTo\"}], \"directed\": true, \"graph\": {}}, widthx=600, heightx=300;\n",
       "var process_nx = function(d3, chart_id, graph, width, height) {\n",
       "    var color = d3.scale.category20();\n",
       "\n",
       "    var force = d3.layout.force()\n",
       "        .charge(-200)\n",
       "        .linkDistance(40)\n",
       "        .size([width, height]);\n",
       "\n",
       "    var svg = d3.select('#' + chart_id).append(\"svg\")\n",
       "        .attr(\"width\", width)\n",
       "        .attr(\"height\", height);\n",
       "\n",
       "    force\n",
       "      .nodes(graph.nodes)\n",
       "      .links(graph.links)\n",
       "      .start();\n",
       "\n",
       "    var link = svg.selectAll(\".link\")\n",
       "        .data(graph.links)\n",
       "        .enter().append(\"line\")\n",
       "        .attr(\"class\", \"link\")\n",
       "        .attr(\"stroke\", \"#999\")\n",
       "        .attr(\"stroke-width\", 1.5);\n",
       "\n",
       "    var node = svg.selectAll(\".node\")\n",
       "        .data(graph.nodes)\n",
       "        .enter().append(\"g\")\n",
       "        .attr(\"class\", \"node\")\n",
       "        .call(force.drag);\n",
       "\n",
       "    node.append(\"circle\")\n",
       "        .attr(\"r\", 6)\n",
       "        .style(\"fill\", function(d) {\n",
       "            return color(d.color);\n",
       "        });\n",
       "\n",
       "    node.append(\"text\")\n",
       "        .attr(\"dx\", 12)\n",
       "        .attr(\"dy\", \".35em\")\n",
       "        .text(function(d) {\n",
       "            return d.id;\n",
       "        });\n",
       "\n",
       "    force.on(\"tick\", function() {\n",
       "        link.attr(\"x1\", function(d) { return d.source.x; })\n",
       "            .attr(\"y1\", function(d) { return d.source.y; })\n",
       "            .attr(\"x2\", function(d) { return d.target.x; })\n",
       "            .attr(\"y2\", function(d) { return d.target.y; });\n",
       "\n",
       "        node.attr(\"transform\", function(d) {\n",
       "            return \"translate(\" + d.x + \",\" + d.y + \")\";\n",
       "        });\n",
       "    });\n",
       "}\n",
       "\n",
       "        require.config({\n",
       "          paths: {\n",
       "              d3: '//cdnjs.cloudflare.com/ajax/libs/d3/3.4.8/d3.min'\n",
       "          }\n",
       "        });\n",
       "\n",
       "        element.append(\"<div id='\" + chart_idx + \"'></div>\");\n",
       "\n",
       "        require(['d3'], function(d3) {\n",
       "            return process_nx(d3, chart_idx, graphx, widthx, heightx)\n",
       "        })\n",
       "    "
      ],
      "text/plain": [
       "<IPython.core.display.Javascript object>"
      ]
     },
     "execution_count": 4,
     "metadata": {},
     "output_type": "execute_result"
    }
   ],
   "source": [
    "nx2d3.embed_networkx(g, height=300, width=600)"
   ]
  },
  {
   "cell_type": "code",
   "execution_count": 5,
   "metadata": {
    "collapsed": false
   },
   "outputs": [
    {
     "name": "stdout",
     "output_type": "stream",
     "text": [
      "('RNA', 'ALPHABET', 'D') ('Protein', 'ALPHABET', 'D') {\n",
      "  \"relation\": \"translatedTo\"\n",
      "}\n",
      "('Protein', 'ALPHABET', 'D') ('Protein', 'ALPHABET', 'E') {\n",
      "  \"relation\": \"association\"\n",
      "}\n",
      "('RNA', 'ALPHABET', 'C') ('Protein', 'ALPHABET', 'C') {\n",
      "  \"relation\": \"translatedTo\"\n",
      "}\n",
      "('Protein', 'ALPHABET', 'A') ('Protein', 'ALPHABET', 'B') {\n",
      "  \"relation\": \"increases\"\n",
      "}\n",
      "('Protein', 'ALPHABET', 'A') ('Protein', 'ALPHABET', 'B') {\n",
      "  \"relation\": \"increases\"\n",
      "}\n",
      "('Gene', 'ALPHABET', 'E') ('RNA', 'ALPHABET', 'E') {\n",
      "  \"relation\": \"transcribedTo\"\n",
      "}\n",
      "('Gene', 'ALPHABET', 'C') ('RNA', 'ALPHABET', 'C') {\n",
      "  \"relation\": \"transcribedTo\"\n",
      "}\n",
      "('Gene', 'ALPHABET', 'A') ('RNA', 'ALPHABET', 'A') {\n",
      "  \"relation\": \"transcribedTo\"\n",
      "}\n",
      "('Protein', 'ALPHABET', 'B') ('Protein', 'ALPHABET', 'C') {\n",
      "  \"relation\": \"decreases\"\n",
      "}\n",
      "('Protein', 'ALPHABET', 'B') ('Protein', 'ALPHABET', 'D') {\n",
      "  \"relation\": \"directlyDecreases\"\n",
      "}\n",
      "('RNA', 'ALPHABET', 'B') ('Protein', 'ALPHABET', 'B') {\n",
      "  \"relation\": \"translatedTo\"\n",
      "}\n",
      "('RNA', 'ALPHABET', 'E') ('Protein', 'ALPHABET', 'E') {\n",
      "  \"relation\": \"translatedTo\"\n",
      "}\n",
      "('Gene', 'ALPHABET', 'D') ('RNA', 'ALPHABET', 'D') {\n",
      "  \"relation\": \"transcribedTo\"\n",
      "}\n",
      "('Gene', 'ALPHABET', 'B') ('RNA', 'ALPHABET', 'B') {\n",
      "  \"relation\": \"transcribedTo\"\n",
      "}\n",
      "('RNA', 'ALPHABET', 'A') ('Protein', 'ALPHABET', 'A') {\n",
      "  \"relation\": \"translatedTo\"\n",
      "}\n"
     ]
    }
   ],
   "source": [
    "for u,v,data in g.edges(data=True):\n",
    "    print(u, v, json.dumps(data, indent=2))"
   ]
  },
  {
   "cell_type": "code",
   "execution_count": 6,
   "metadata": {
    "collapsed": false
   },
   "outputs": [
    {
     "data": {
      "text/plain": [
       "[]"
      ]
     },
     "execution_count": 6,
     "metadata": {},
     "output_type": "execute_result"
    }
   ],
   "source": [
    "neo_path = os.environ['NEO_PATH']\n",
    "neo = py2neo.Graph(neo_path)\n",
    "neo.data('match (n) detach delete n')"
   ]
  },
  {
   "cell_type": "code",
   "execution_count": 7,
   "metadata": {
    "collapsed": false
   },
   "outputs": [],
   "source": [
    "g.to_neo4j(neo)"
   ]
  },
  {
   "cell_type": "code",
   "execution_count": 8,
   "metadata": {
    "collapsed": false
   },
   "outputs": [
    {
     "data": {
      "text/plain": [
       "[{'n': (`0`:RNA {name:\"0\",namespace:\"ALPHABET\",value:\"D\"})},\n",
       " {'n': (`1`:Protein {name:\"1\",namespace:\"ALPHABET\",value:\"D\"})},\n",
       " {'n': (`2`:Protein {name:\"2\",namespace:\"ALPHABET\",value:\"C\"})},\n",
       " {'n': (`3`:RNA {name:\"3\",namespace:\"ALPHABET\",value:\"C\"})},\n",
       " {'n': (`4`:Protein {name:\"4\",namespace:\"ALPHABET\",value:\"A\"})},\n",
       " {'n': (`5`:Gene {name:\"5\",namespace:\"ALPHABET\",value:\"E\"})},\n",
       " {'n': (`6`:Gene {name:\"6\",namespace:\"ALPHABET\",value:\"C\"})},\n",
       " {'n': (`7`:Gene {name:\"7\",namespace:\"ALPHABET\",value:\"A\"})},\n",
       " {'n': (`8`:Protein {name:\"8\",namespace:\"ALPHABET\",value:\"B\"})},\n",
       " {'n': (`9`:RNA {name:\"9\",namespace:\"ALPHABET\",value:\"B\"})},\n",
       " {'n': (`10`:RNA {name:\"10\",namespace:\"ALPHABET\",value:\"E\"})},\n",
       " {'n': (`11`:Protein {name:\"11\",namespace:\"ALPHABET\",value:\"E\"})},\n",
       " {'n': (`12`:Gene {name:\"12\",namespace:\"ALPHABET\",value:\"D\"})},\n",
       " {'n': (`13`:Gene {name:\"13\",namespace:\"ALPHABET\",value:\"B\"})},\n",
       " {'n': (`14`:RNA {name:\"14\",namespace:\"ALPHABET\",value:\"A\"})}]"
      ]
     },
     "execution_count": 8,
     "metadata": {},
     "output_type": "execute_result"
    }
   ],
   "source": [
    "neo.data('match (n) return n')"
   ]
  },
  {
   "cell_type": "code",
   "execution_count": 9,
   "metadata": {
    "collapsed": false
   },
   "outputs": [
    {
     "name": "stdout",
     "output_type": "stream",
     "text": [
      " n.namespace  n.value  k                                  m.namespace  m.value \n",
      "-------------------------------------------------------------------------------\n",
      " ALPHABET     D        (`12`)-[:transcribedTo]->(`0`)     ALPHABET     D       \n",
      " ALPHABET     D        (`0`)-[:translatedTo]->(`1`)       ALPHABET     D       \n",
      " ALPHABET     D        (`8`)-[:directlyDecreases]->(`1`)  ALPHABET     B       \n",
      " ALPHABET     D        (`0`)-[:translatedTo]->(`1`)       ALPHABET     D       \n",
      " ALPHABET     D        (`1`)-[:association]->(`11`)       ALPHABET     E       \n",
      " ALPHABET     C        (`8`)-[:decreases]->(`2`)          ALPHABET     B       \n",
      " ALPHABET     C        (`3`)-[:translatedTo]->(`2`)       ALPHABET     C       \n",
      " ALPHABET     C        (`6`)-[:transcribedTo]->(`3`)      ALPHABET     C       \n",
      " ALPHABET     C        (`3`)-[:translatedTo]->(`2`)       ALPHABET     C       \n",
      " ALPHABET     A        (`14`)-[:translatedTo]->(`4`)      ALPHABET     A       \n",
      " ALPHABET     A        (`4`)-[:increases]->(`8`)          ALPHABET     B       \n",
      " ALPHABET     E        (`5`)-[:transcribedTo]->(`10`)     ALPHABET     E       \n",
      " ALPHABET     C        (`6`)-[:transcribedTo]->(`3`)      ALPHABET     C       \n",
      " ALPHABET     A        (`7`)-[:transcribedTo]->(`14`)     ALPHABET     A       \n",
      " ALPHABET     B        (`8`)-[:decreases]->(`2`)          ALPHABET     C       \n",
      " ALPHABET     B        (`8`)-[:directlyDecreases]->(`1`)  ALPHABET     D       \n",
      " ALPHABET     B        (`9`)-[:translatedTo]->(`8`)       ALPHABET     B       \n",
      " ALPHABET     B        (`4`)-[:increases]->(`8`)          ALPHABET     A       \n",
      " ALPHABET     B        (`9`)-[:translatedTo]->(`8`)       ALPHABET     B       \n",
      " ALPHABET     B        (`13`)-[:transcribedTo]->(`9`)     ALPHABET     B       \n",
      " ALPHABET     E        (`5`)-[:transcribedTo]->(`10`)     ALPHABET     E       \n",
      " ALPHABET     E        (`10`)-[:translatedTo]->(`11`)     ALPHABET     E       \n",
      " ALPHABET     E        (`10`)-[:translatedTo]->(`11`)     ALPHABET     E       \n",
      " ALPHABET     E        (`1`)-[:association]->(`11`)       ALPHABET     D       \n",
      " ALPHABET     D        (`12`)-[:transcribedTo]->(`0`)     ALPHABET     D       \n",
      " ALPHABET     B        (`13`)-[:transcribedTo]->(`9`)     ALPHABET     B       \n",
      " ALPHABET     A        (`7`)-[:transcribedTo]->(`14`)     ALPHABET     A       \n",
      " ALPHABET     A        (`14`)-[:translatedTo]->(`4`)      ALPHABET     A       \n"
     ]
    }
   ],
   "source": [
    "r = neo.run('match (n)-[k]-(m) return n.namespace, n.value, k, m.namespace, m.value')\n",
    "r.dump()"
   ]
  }
 ],
 "metadata": {
  "kernelspec": {
   "display_name": "Python 3",
   "language": "python",
   "name": "python3"
  },
  "language_info": {
   "codemirror_mode": {
    "name": "ipython",
    "version": 3
   },
   "file_extension": ".py",
   "mimetype": "text/x-python",
   "name": "python",
   "nbconvert_exporter": "python",
   "pygments_lexer": "ipython3",
   "version": "3.5.2"
  }
 },
 "nbformat": 4,
 "nbformat_minor": 1
}
